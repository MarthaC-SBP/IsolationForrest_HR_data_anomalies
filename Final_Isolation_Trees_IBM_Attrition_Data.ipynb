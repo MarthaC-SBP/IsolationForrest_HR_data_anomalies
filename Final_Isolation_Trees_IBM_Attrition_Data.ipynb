{
  "nbformat": 4,
  "nbformat_minor": 0,
  "metadata": {
    "colab": {
      "name": "Final Isolation Trees_IBM Attrition Data.ipynb",
      "provenance": [],
      "collapsed_sections": []
    },
    "kernelspec": {
      "name": "python3",
      "display_name": "Python 3"
    },
    "language_info": {
      "name": "python"
    }
  },
  "cells": [
    {
      "cell_type": "markdown",
      "source": [
        "# **Using Isolation Trees to Identify Anomalies in HR Data**\n",
        "Adam McKinnon and I decided to explore the use of isolation trees to identify anomalies in HR data. We used the IBM Attrition dataset available on the Kaggle website to demonstrate how this work can be done. \n",
        "\n",
        "This project is done all in Python, using the [H2O library](https://docs.h2o.ai/h2o/latest-stable/h2o-docs/data-science/if.html#). \n",
        "\n",
        "## **Table of Contents**\n",
        "\n",
        "* [Introduction & Business Problem](#introduction)\n",
        "* [Data & Libraries](#data)\n",
        "* [Methodology](#methodology)\n",
        "* [Analysis](#analysis)\n",
        "* [Results](#results)\n",
        "* [Conclusion](#conclusion)\n",
        "\n",
        "(This project was a collaboration between myself and Adam McKinnon.)"
      ],
      "metadata": {
        "id": "OK521MiQ7kU9"
      }
    },
    {
      "cell_type": "markdown",
      "source": [
        "### **Introduction & Business Problem** <a name=\"introduction\"></a>"
      ],
      "metadata": {
        "id": "5z2yJdHl9UDI"
      }
    },
    {
      "cell_type": "markdown",
      "source": [
        "**Business Problem**\n",
        "\n",
        "The topic of data quality is like that of I.T. services generally… you only ever hear about it when there’s a problem! There appears a universal and implicit assumption among stakeholders receiving the findings of people analytics initiatives that your data is “good”. Failure to observe this assumption of high-quality data can significantly (and rapidly) undermine the credibility of findings, irrespective of how small the data quality deviation! \n",
        "\n",
        "From an analytical perspective, the quality of your insights can be potentially limited by flawed data. As the saying goes “garbage in, garbage out”. Coupled with stakeholder expectations, it becomes increasingly important that analytics practitioners invest time and energy in the assessment and curation of high-quality data to maximise the influence of analytics on decision making in their organisations. \n",
        "\n",
        "At the same time, monitoring data quality can be immensely time consuming, simplistic in execution (i.e., simple evaluation criteria such as age ranges), highly repetitive, and utterly devoid of ANY professional enjoyment! To overcome these shortcomings, we have developed an automated, sophisticated, multi-dimensional and scalable approach to data quality evaluation using unsupervised machine learning—Isolation Forests. \n",
        "\n",
        "**The Process**\n",
        "\n",
        "We will use Isolation Forests, an unsupervised machine learning approach, to scan employee data for potentially anomalous records.  \n"
      ],
      "metadata": {
        "id": "APsfuPwr9Yi9"
      }
    },
    {
      "cell_type": "markdown",
      "source": [
        "### **Data & Libraries** <a name=\"data\"></a>"
      ],
      "metadata": {
        "id": "CBOt0Ybh9ZDL"
      }
    },
    {
      "cell_type": "markdown",
      "source": [
        "For this project, we used the IBM HR Attrition dataset ([available on the Kaggle website](https:/https://www.kaggle.com/datasets/pavansubhasht/ibm-hr-analytics-attrition-dataset)). This particular set of data has 35 variables, including a mixture of quantitative and qualitative. \n",
        "\n",
        "There are a few options when it comes to packages that support use of the isolation forrest algorithm (our model of choice for this project - more on that later). We decided to use the H2O package because it limits the amount of data transformation that needs to be done. Alternative packages require you to one-hot-encode the data, whereas the H2O package works with a mixture of quantiative and qualitative data. \n",
        "\n",
        "After installing the H2O and Pandas libraries, we ingested the HR data and did some minor cleanup of column names. \n",
        "\n"
      ],
      "metadata": {
        "id": "wSonXYKj9cBC"
      }
    },
    {
      "cell_type": "markdown",
      "source": [
        "####Install h20 and import libraries"
      ],
      "metadata": {
        "id": "13YJ4k2Z-IgV"
      }
    },
    {
      "cell_type": "code",
      "source": [
        "!pip install -f http://h2o-release.s3.amazonaws.com/h2o/latest_stable_Py.html h2o"
      ],
      "metadata": {
        "colab": {
          "base_uri": "https://localhost:8080/"
        },
        "id": "F-4N0K2B-aix",
        "outputId": "f9b938a3-50ec-4b75-a7ef-218759586168"
      },
      "execution_count": null,
      "outputs": [
        {
          "output_type": "stream",
          "name": "stdout",
          "text": [
            "Looking in indexes: https://pypi.org/simple, https://us-python.pkg.dev/colab-wheels/public/simple/\n",
            "Looking in links: http://h2o-release.s3.amazonaws.com/h2o/latest_stable_Py.html\n",
            "\u001b[33mWARNING: The repository located at h2o-release.s3.amazonaws.com is not a trusted or secure host and is being ignored. If this repository is available via HTTPS we recommend you use HTTPS instead, otherwise you may silence this warning and allow it anyway with '--trusted-host h2o-release.s3.amazonaws.com'.\u001b[0m\n",
            "Collecting h2o\n",
            "  Downloading h2o-3.36.1.3.tar.gz (177.0 MB)\n",
            "\u001b[K     |████████████████████████████████| 177.0 MB 36 kB/s \n",
            "\u001b[?25hRequirement already satisfied: requests in /usr/local/lib/python3.7/dist-packages (from h2o) (2.23.0)\n",
            "Requirement already satisfied: tabulate in /usr/local/lib/python3.7/dist-packages (from h2o) (0.8.10)\n",
            "Requirement already satisfied: future in /usr/local/lib/python3.7/dist-packages (from h2o) (0.16.0)\n",
            "Requirement already satisfied: idna<3,>=2.5 in /usr/local/lib/python3.7/dist-packages (from requests->h2o) (2.10)\n",
            "Requirement already satisfied: certifi>=2017.4.17 in /usr/local/lib/python3.7/dist-packages (from requests->h2o) (2022.6.15)\n",
            "Requirement already satisfied: chardet<4,>=3.0.2 in /usr/local/lib/python3.7/dist-packages (from requests->h2o) (3.0.4)\n",
            "Requirement already satisfied: urllib3!=1.25.0,!=1.25.1,<1.26,>=1.21.1 in /usr/local/lib/python3.7/dist-packages (from requests->h2o) (1.24.3)\n",
            "Building wheels for collected packages: h2o\n",
            "  Building wheel for h2o (setup.py) ... \u001b[?25l\u001b[?25hdone\n",
            "  Created wheel for h2o: filename=h2o-3.36.1.3-py2.py3-none-any.whl size=177103819 sha256=e847b22d540d149335e1c991b4531d4b8b4325990116f72fc8257b80bdffdcb7\n",
            "  Stored in directory: /root/.cache/pip/wheels/64/86/0f/d54be71f64b85d238edb037069bc866f2156cc563bf02be527\n",
            "Successfully built h2o\n",
            "Installing collected packages: h2o\n",
            "Successfully installed h2o-3.36.1.3\n"
          ]
        }
      ]
    },
    {
      "cell_type": "code",
      "source": [
        "import pandas as pd\n",
        "import h2o\n",
        "h2o.init()\n",
        "\n",
        "from h2o.estimators import H2OIsolationForestEstimator\n",
        "from h2o.estimators import H2ORandomForestEstimator"
      ],
      "metadata": {
        "colab": {
          "base_uri": "https://localhost:8080/"
        },
        "id": "QhOxC8459Tru",
        "outputId": "2cfa358e-08e9-4e40-f173-e4d0db860c1e"
      },
      "execution_count": null,
      "outputs": [
        {
          "output_type": "stream",
          "name": "stdout",
          "text": [
            "Checking whether there is an H2O instance running at http://localhost:54321 ..... not found.\n",
            "Attempting to start a local H2O server...\n",
            "  Java Version: openjdk version \"11.0.15\" 2022-04-19; OpenJDK Runtime Environment (build 11.0.15+10-Ubuntu-0ubuntu0.18.04.1); OpenJDK 64-Bit Server VM (build 11.0.15+10-Ubuntu-0ubuntu0.18.04.1, mixed mode, sharing)\n",
            "  Starting server from /usr/local/lib/python3.7/dist-packages/h2o/backend/bin/h2o.jar\n",
            "  Ice root: /tmp/tmpvrm0rabm\n",
            "  JVM stdout: /tmp/tmpvrm0rabm/h2o_unknownUser_started_from_python.out\n",
            "  JVM stderr: /tmp/tmpvrm0rabm/h2o_unknownUser_started_from_python.err\n",
            "  Server is running at http://127.0.0.1:54321\n",
            "Connecting to H2O server at http://127.0.0.1:54321 ... successful.\n"
          ]
        },
        {
          "output_type": "display_data",
          "data": {
            "text/plain": [
              "--------------------------  ----------------------------------\n",
              "H2O_cluster_uptime:         05 secs\n",
              "H2O_cluster_timezone:       Etc/UTC\n",
              "H2O_data_parsing_timezone:  UTC\n",
              "H2O_cluster_version:        3.36.1.3\n",
              "H2O_cluster_version_age:    4 days\n",
              "H2O_cluster_name:           H2O_from_python_unknownUser_9362vb\n",
              "H2O_cluster_total_nodes:    1\n",
              "H2O_cluster_free_memory:    3.172 Gb\n",
              "H2O_cluster_total_cores:    2\n",
              "H2O_cluster_allowed_cores:  2\n",
              "H2O_cluster_status:         locked, healthy\n",
              "H2O_connection_url:         http://127.0.0.1:54321\n",
              "H2O_connection_proxy:       {\"http\": null, \"https\": null}\n",
              "H2O_internal_security:      False\n",
              "Python_version:             3.7.13 final\n",
              "--------------------------  ----------------------------------"
            ],
            "text/html": [
              "<div style=\"overflow:auto\"><table style=\"width:50%\"><tr><td>H2O_cluster_uptime:</td>\n",
              "<td>05 secs</td></tr>\n",
              "<tr><td>H2O_cluster_timezone:</td>\n",
              "<td>Etc/UTC</td></tr>\n",
              "<tr><td>H2O_data_parsing_timezone:</td>\n",
              "<td>UTC</td></tr>\n",
              "<tr><td>H2O_cluster_version:</td>\n",
              "<td>3.36.1.3</td></tr>\n",
              "<tr><td>H2O_cluster_version_age:</td>\n",
              "<td>4 days </td></tr>\n",
              "<tr><td>H2O_cluster_name:</td>\n",
              "<td>H2O_from_python_unknownUser_9362vb</td></tr>\n",
              "<tr><td>H2O_cluster_total_nodes:</td>\n",
              "<td>1</td></tr>\n",
              "<tr><td>H2O_cluster_free_memory:</td>\n",
              "<td>3.172 Gb</td></tr>\n",
              "<tr><td>H2O_cluster_total_cores:</td>\n",
              "<td>2</td></tr>\n",
              "<tr><td>H2O_cluster_allowed_cores:</td>\n",
              "<td>2</td></tr>\n",
              "<tr><td>H2O_cluster_status:</td>\n",
              "<td>locked, healthy</td></tr>\n",
              "<tr><td>H2O_connection_url:</td>\n",
              "<td>http://127.0.0.1:54321</td></tr>\n",
              "<tr><td>H2O_connection_proxy:</td>\n",
              "<td>{\"http\": null, \"https\": null}</td></tr>\n",
              "<tr><td>H2O_internal_security:</td>\n",
              "<td>False</td></tr>\n",
              "<tr><td>Python_version:</td>\n",
              "<td>3.7.13 final</td></tr></table></div>"
            ]
          },
          "metadata": {}
        }
      ]
    },
    {
      "cell_type": "markdown",
      "source": [
        "####Download data"
      ],
      "metadata": {
        "id": "12x8hjX8-xk4"
      }
    },
    {
      "cell_type": "code",
      "execution_count": null,
      "metadata": {
        "colab": {
          "base_uri": "https://localhost:8080/"
        },
        "id": "k52aM0AA7eRa",
        "outputId": "f81de869-97e7-4a55-d4fb-85cb312c3719"
      },
      "outputs": [
        {
          "output_type": "stream",
          "name": "stdout",
          "text": [
            "Parse progress: |████████████████████████████████████████████████████████████████| (done) 100%\n"
          ]
        },
        {
          "output_type": "execute_result",
          "data": {
            "text/plain": [
              "['\\ufeffAge',\n",
              " 'Attrition',\n",
              " 'BusinessTravel',\n",
              " 'DailyRate',\n",
              " 'Department',\n",
              " 'DistanceFromHome',\n",
              " 'Education',\n",
              " 'EducationField',\n",
              " 'EmployeeCount',\n",
              " 'EmployeeNumber',\n",
              " 'EnvironmentSatisfaction',\n",
              " 'Gender',\n",
              " 'HourlyRate',\n",
              " 'JobInvolvement',\n",
              " 'JobLevel',\n",
              " 'JobRole',\n",
              " 'JobSatisfaction',\n",
              " 'MaritalStatus',\n",
              " 'MonthlyIncome',\n",
              " 'MonthlyRate',\n",
              " 'NumCompaniesWorked',\n",
              " 'Over18',\n",
              " 'OverTime',\n",
              " 'PercentSalaryHike',\n",
              " 'PerformanceRating',\n",
              " 'RelationshipSatisfaction',\n",
              " 'StandardHours',\n",
              " 'StockOptionLevel',\n",
              " 'TotalWorkingYears',\n",
              " 'TrainingTimesLastYear',\n",
              " 'WorkLifeBalance',\n",
              " 'YearsAtCompany',\n",
              " 'YearsInCurrentRole',\n",
              " 'YearsSinceLastPromotion',\n",
              " 'YearsWithCurrManager']"
            ]
          },
          "metadata": {},
          "execution_count": 3
        }
      ],
      "source": [
        "#load IBM attrition data using h20\n",
        "employee_data = h2o.import_file('/content/drive/MyDrive/Kaggle/IBM_Employee_Attrition.csv')\n",
        "\n",
        "#preview the column names to select those to be included in the analysis\n",
        "employee_data.columns"
      ]
    },
    {
      "cell_type": "code",
      "source": [
        "#rename the first column since it imported with extra characters\n",
        "employee_data = employee_data.rename({'\\ufeffAge': 'Age'})\n",
        "\n",
        "#print the dataframe shape and preview the table\n",
        "print(employee_data.shape)\n",
        "employee_data.head()"
      ],
      "metadata": {
        "colab": {
          "base_uri": "https://localhost:8080/"
        },
        "id": "-fOIO7la-2Ao",
        "outputId": "2d0f86dc-e887-4963-ca28-726573b79229"
      },
      "execution_count": null,
      "outputs": [
        {
          "output_type": "stream",
          "name": "stdout",
          "text": [
            "(1470, 35)\n"
          ]
        },
        {
          "output_type": "display_data",
          "data": {
            "text/html": [
              "<table>\n",
              "<thead>\n",
              "<tr><th style=\"text-align: right;\">  Age</th><th>Attrition  </th><th>BusinessTravel   </th><th style=\"text-align: right;\">  DailyRate</th><th>Department            </th><th style=\"text-align: right;\">  DistanceFromHome</th><th style=\"text-align: right;\">  Education</th><th>EducationField  </th><th style=\"text-align: right;\">  EmployeeCount</th><th style=\"text-align: right;\">  EmployeeNumber</th><th style=\"text-align: right;\">  EnvironmentSatisfaction</th><th>Gender  </th><th style=\"text-align: right;\">  HourlyRate</th><th style=\"text-align: right;\">  JobInvolvement</th><th style=\"text-align: right;\">  JobLevel</th><th>JobRole                  </th><th style=\"text-align: right;\">  JobSatisfaction</th><th>MaritalStatus  </th><th style=\"text-align: right;\">  MonthlyIncome</th><th style=\"text-align: right;\">  MonthlyRate</th><th style=\"text-align: right;\">  NumCompaniesWorked</th><th>Over18  </th><th>OverTime  </th><th style=\"text-align: right;\">  PercentSalaryHike</th><th style=\"text-align: right;\">  PerformanceRating</th><th style=\"text-align: right;\">  RelationshipSatisfaction</th><th style=\"text-align: right;\">  StandardHours</th><th style=\"text-align: right;\">  StockOptionLevel</th><th style=\"text-align: right;\">  TotalWorkingYears</th><th style=\"text-align: right;\">  TrainingTimesLastYear</th><th style=\"text-align: right;\">  WorkLifeBalance</th><th style=\"text-align: right;\">  YearsAtCompany</th><th style=\"text-align: right;\">  YearsInCurrentRole</th><th style=\"text-align: right;\">  YearsSinceLastPromotion</th><th style=\"text-align: right;\">  YearsWithCurrManager</th></tr>\n",
              "</thead>\n",
              "<tbody>\n",
              "<tr><td style=\"text-align: right;\">   41</td><td>Yes        </td><td>Travel_Rarely    </td><td style=\"text-align: right;\">       1102</td><td>Sales                 </td><td style=\"text-align: right;\">                 1</td><td style=\"text-align: right;\">          2</td><td>Life Sciences   </td><td style=\"text-align: right;\">              1</td><td style=\"text-align: right;\">               1</td><td style=\"text-align: right;\">                        2</td><td>Female  </td><td style=\"text-align: right;\">          94</td><td style=\"text-align: right;\">               3</td><td style=\"text-align: right;\">         2</td><td>Sales Executive          </td><td style=\"text-align: right;\">                4</td><td>Single         </td><td style=\"text-align: right;\">           5993</td><td style=\"text-align: right;\">        19479</td><td style=\"text-align: right;\">                   8</td><td>Y       </td><td>Yes       </td><td style=\"text-align: right;\">                 11</td><td style=\"text-align: right;\">                  3</td><td style=\"text-align: right;\">                         1</td><td style=\"text-align: right;\">             80</td><td style=\"text-align: right;\">                 0</td><td style=\"text-align: right;\">                  8</td><td style=\"text-align: right;\">                      0</td><td style=\"text-align: right;\">                1</td><td style=\"text-align: right;\">               6</td><td style=\"text-align: right;\">                   4</td><td style=\"text-align: right;\">                        0</td><td style=\"text-align: right;\">                     5</td></tr>\n",
              "<tr><td style=\"text-align: right;\">   49</td><td>No         </td><td>Travel_Frequently</td><td style=\"text-align: right;\">        279</td><td>Research &amp; Development</td><td style=\"text-align: right;\">                 8</td><td style=\"text-align: right;\">          1</td><td>Life Sciences   </td><td style=\"text-align: right;\">              1</td><td style=\"text-align: right;\">               2</td><td style=\"text-align: right;\">                        3</td><td>Male    </td><td style=\"text-align: right;\">          61</td><td style=\"text-align: right;\">               2</td><td style=\"text-align: right;\">         2</td><td>Research Scientist       </td><td style=\"text-align: right;\">                2</td><td>Married        </td><td style=\"text-align: right;\">           5130</td><td style=\"text-align: right;\">        24907</td><td style=\"text-align: right;\">                   1</td><td>Y       </td><td>No        </td><td style=\"text-align: right;\">                 23</td><td style=\"text-align: right;\">                  4</td><td style=\"text-align: right;\">                         4</td><td style=\"text-align: right;\">             80</td><td style=\"text-align: right;\">                 1</td><td style=\"text-align: right;\">                 10</td><td style=\"text-align: right;\">                      3</td><td style=\"text-align: right;\">                3</td><td style=\"text-align: right;\">              10</td><td style=\"text-align: right;\">                   7</td><td style=\"text-align: right;\">                        1</td><td style=\"text-align: right;\">                     7</td></tr>\n",
              "<tr><td style=\"text-align: right;\">   37</td><td>Yes        </td><td>Travel_Rarely    </td><td style=\"text-align: right;\">       1373</td><td>Research &amp; Development</td><td style=\"text-align: right;\">                 2</td><td style=\"text-align: right;\">          2</td><td>Other           </td><td style=\"text-align: right;\">              1</td><td style=\"text-align: right;\">               4</td><td style=\"text-align: right;\">                        4</td><td>Male    </td><td style=\"text-align: right;\">          92</td><td style=\"text-align: right;\">               2</td><td style=\"text-align: right;\">         1</td><td>Laboratory Technician    </td><td style=\"text-align: right;\">                3</td><td>Single         </td><td style=\"text-align: right;\">           2090</td><td style=\"text-align: right;\">         2396</td><td style=\"text-align: right;\">                   6</td><td>Y       </td><td>Yes       </td><td style=\"text-align: right;\">                 15</td><td style=\"text-align: right;\">                  3</td><td style=\"text-align: right;\">                         2</td><td style=\"text-align: right;\">             80</td><td style=\"text-align: right;\">                 0</td><td style=\"text-align: right;\">                  7</td><td style=\"text-align: right;\">                      3</td><td style=\"text-align: right;\">                3</td><td style=\"text-align: right;\">               0</td><td style=\"text-align: right;\">                   0</td><td style=\"text-align: right;\">                        0</td><td style=\"text-align: right;\">                     0</td></tr>\n",
              "<tr><td style=\"text-align: right;\">   33</td><td>No         </td><td>Travel_Frequently</td><td style=\"text-align: right;\">       1392</td><td>Research &amp; Development</td><td style=\"text-align: right;\">                 3</td><td style=\"text-align: right;\">          4</td><td>Life Sciences   </td><td style=\"text-align: right;\">              1</td><td style=\"text-align: right;\">               5</td><td style=\"text-align: right;\">                        4</td><td>Female  </td><td style=\"text-align: right;\">          56</td><td style=\"text-align: right;\">               3</td><td style=\"text-align: right;\">         1</td><td>Research Scientist       </td><td style=\"text-align: right;\">                3</td><td>Married        </td><td style=\"text-align: right;\">           2909</td><td style=\"text-align: right;\">        23159</td><td style=\"text-align: right;\">                   1</td><td>Y       </td><td>Yes       </td><td style=\"text-align: right;\">                 11</td><td style=\"text-align: right;\">                  3</td><td style=\"text-align: right;\">                         3</td><td style=\"text-align: right;\">             80</td><td style=\"text-align: right;\">                 0</td><td style=\"text-align: right;\">                  8</td><td style=\"text-align: right;\">                      3</td><td style=\"text-align: right;\">                3</td><td style=\"text-align: right;\">               8</td><td style=\"text-align: right;\">                   7</td><td style=\"text-align: right;\">                        3</td><td style=\"text-align: right;\">                     0</td></tr>\n",
              "<tr><td style=\"text-align: right;\">   27</td><td>No         </td><td>Travel_Rarely    </td><td style=\"text-align: right;\">        591</td><td>Research &amp; Development</td><td style=\"text-align: right;\">                 2</td><td style=\"text-align: right;\">          1</td><td>Medical         </td><td style=\"text-align: right;\">              1</td><td style=\"text-align: right;\">               7</td><td style=\"text-align: right;\">                        1</td><td>Male    </td><td style=\"text-align: right;\">          40</td><td style=\"text-align: right;\">               3</td><td style=\"text-align: right;\">         1</td><td>Laboratory Technician    </td><td style=\"text-align: right;\">                2</td><td>Married        </td><td style=\"text-align: right;\">           3468</td><td style=\"text-align: right;\">        16632</td><td style=\"text-align: right;\">                   9</td><td>Y       </td><td>No        </td><td style=\"text-align: right;\">                 12</td><td style=\"text-align: right;\">                  3</td><td style=\"text-align: right;\">                         4</td><td style=\"text-align: right;\">             80</td><td style=\"text-align: right;\">                 1</td><td style=\"text-align: right;\">                  6</td><td style=\"text-align: right;\">                      3</td><td style=\"text-align: right;\">                3</td><td style=\"text-align: right;\">               2</td><td style=\"text-align: right;\">                   2</td><td style=\"text-align: right;\">                        2</td><td style=\"text-align: right;\">                     2</td></tr>\n",
              "<tr><td style=\"text-align: right;\">   32</td><td>No         </td><td>Travel_Frequently</td><td style=\"text-align: right;\">       1005</td><td>Research &amp; Development</td><td style=\"text-align: right;\">                 2</td><td style=\"text-align: right;\">          2</td><td>Life Sciences   </td><td style=\"text-align: right;\">              1</td><td style=\"text-align: right;\">               8</td><td style=\"text-align: right;\">                        4</td><td>Male    </td><td style=\"text-align: right;\">          79</td><td style=\"text-align: right;\">               3</td><td style=\"text-align: right;\">         1</td><td>Laboratory Technician    </td><td style=\"text-align: right;\">                4</td><td>Single         </td><td style=\"text-align: right;\">           3068</td><td style=\"text-align: right;\">        11864</td><td style=\"text-align: right;\">                   0</td><td>Y       </td><td>No        </td><td style=\"text-align: right;\">                 13</td><td style=\"text-align: right;\">                  3</td><td style=\"text-align: right;\">                         3</td><td style=\"text-align: right;\">             80</td><td style=\"text-align: right;\">                 0</td><td style=\"text-align: right;\">                  8</td><td style=\"text-align: right;\">                      2</td><td style=\"text-align: right;\">                2</td><td style=\"text-align: right;\">               7</td><td style=\"text-align: right;\">                   7</td><td style=\"text-align: right;\">                        3</td><td style=\"text-align: right;\">                     6</td></tr>\n",
              "<tr><td style=\"text-align: right;\">   59</td><td>No         </td><td>Travel_Rarely    </td><td style=\"text-align: right;\">       1324</td><td>Research &amp; Development</td><td style=\"text-align: right;\">                 3</td><td style=\"text-align: right;\">          3</td><td>Medical         </td><td style=\"text-align: right;\">              1</td><td style=\"text-align: right;\">              10</td><td style=\"text-align: right;\">                        3</td><td>Female  </td><td style=\"text-align: right;\">          81</td><td style=\"text-align: right;\">               4</td><td style=\"text-align: right;\">         1</td><td>Laboratory Technician    </td><td style=\"text-align: right;\">                1</td><td>Married        </td><td style=\"text-align: right;\">           2670</td><td style=\"text-align: right;\">         9964</td><td style=\"text-align: right;\">                   4</td><td>Y       </td><td>Yes       </td><td style=\"text-align: right;\">                 20</td><td style=\"text-align: right;\">                  4</td><td style=\"text-align: right;\">                         1</td><td style=\"text-align: right;\">             80</td><td style=\"text-align: right;\">                 3</td><td style=\"text-align: right;\">                 12</td><td style=\"text-align: right;\">                      3</td><td style=\"text-align: right;\">                2</td><td style=\"text-align: right;\">               1</td><td style=\"text-align: right;\">                   0</td><td style=\"text-align: right;\">                        0</td><td style=\"text-align: right;\">                     0</td></tr>\n",
              "<tr><td style=\"text-align: right;\">   30</td><td>No         </td><td>Travel_Rarely    </td><td style=\"text-align: right;\">       1358</td><td>Research &amp; Development</td><td style=\"text-align: right;\">                24</td><td style=\"text-align: right;\">          1</td><td>Life Sciences   </td><td style=\"text-align: right;\">              1</td><td style=\"text-align: right;\">              11</td><td style=\"text-align: right;\">                        4</td><td>Male    </td><td style=\"text-align: right;\">          67</td><td style=\"text-align: right;\">               3</td><td style=\"text-align: right;\">         1</td><td>Laboratory Technician    </td><td style=\"text-align: right;\">                3</td><td>Divorced       </td><td style=\"text-align: right;\">           2693</td><td style=\"text-align: right;\">        13335</td><td style=\"text-align: right;\">                   1</td><td>Y       </td><td>No        </td><td style=\"text-align: right;\">                 22</td><td style=\"text-align: right;\">                  4</td><td style=\"text-align: right;\">                         2</td><td style=\"text-align: right;\">             80</td><td style=\"text-align: right;\">                 1</td><td style=\"text-align: right;\">                  1</td><td style=\"text-align: right;\">                      2</td><td style=\"text-align: right;\">                3</td><td style=\"text-align: right;\">               1</td><td style=\"text-align: right;\">                   0</td><td style=\"text-align: right;\">                        0</td><td style=\"text-align: right;\">                     0</td></tr>\n",
              "<tr><td style=\"text-align: right;\">   38</td><td>No         </td><td>Travel_Frequently</td><td style=\"text-align: right;\">        216</td><td>Research &amp; Development</td><td style=\"text-align: right;\">                23</td><td style=\"text-align: right;\">          3</td><td>Life Sciences   </td><td style=\"text-align: right;\">              1</td><td style=\"text-align: right;\">              12</td><td style=\"text-align: right;\">                        4</td><td>Male    </td><td style=\"text-align: right;\">          44</td><td style=\"text-align: right;\">               2</td><td style=\"text-align: right;\">         3</td><td>Manufacturing Director   </td><td style=\"text-align: right;\">                3</td><td>Single         </td><td style=\"text-align: right;\">           9526</td><td style=\"text-align: right;\">         8787</td><td style=\"text-align: right;\">                   0</td><td>Y       </td><td>No        </td><td style=\"text-align: right;\">                 21</td><td style=\"text-align: right;\">                  4</td><td style=\"text-align: right;\">                         2</td><td style=\"text-align: right;\">             80</td><td style=\"text-align: right;\">                 0</td><td style=\"text-align: right;\">                 10</td><td style=\"text-align: right;\">                      2</td><td style=\"text-align: right;\">                3</td><td style=\"text-align: right;\">               9</td><td style=\"text-align: right;\">                   7</td><td style=\"text-align: right;\">                        1</td><td style=\"text-align: right;\">                     8</td></tr>\n",
              "<tr><td style=\"text-align: right;\">   36</td><td>No         </td><td>Travel_Rarely    </td><td style=\"text-align: right;\">       1299</td><td>Research &amp; Development</td><td style=\"text-align: right;\">                27</td><td style=\"text-align: right;\">          3</td><td>Medical         </td><td style=\"text-align: right;\">              1</td><td style=\"text-align: right;\">              13</td><td style=\"text-align: right;\">                        3</td><td>Male    </td><td style=\"text-align: right;\">          94</td><td style=\"text-align: right;\">               3</td><td style=\"text-align: right;\">         2</td><td>Healthcare Representative</td><td style=\"text-align: right;\">                3</td><td>Married        </td><td style=\"text-align: right;\">           5237</td><td style=\"text-align: right;\">        16577</td><td style=\"text-align: right;\">                   6</td><td>Y       </td><td>No        </td><td style=\"text-align: right;\">                 13</td><td style=\"text-align: right;\">                  3</td><td style=\"text-align: right;\">                         2</td><td style=\"text-align: right;\">             80</td><td style=\"text-align: right;\">                 2</td><td style=\"text-align: right;\">                 17</td><td style=\"text-align: right;\">                      3</td><td style=\"text-align: right;\">                2</td><td style=\"text-align: right;\">               7</td><td style=\"text-align: right;\">                   7</td><td style=\"text-align: right;\">                        7</td><td style=\"text-align: right;\">                     7</td></tr>\n",
              "</tbody>\n",
              "</table>"
            ]
          },
          "metadata": {}
        },
        {
          "output_type": "execute_result",
          "data": {
            "text/plain": [
              ""
            ]
          },
          "metadata": {},
          "execution_count": 4
        }
      ]
    },
    {
      "cell_type": "markdown",
      "source": [
        "### **Methodology** <a name=\"methodology\"></a>"
      ],
      "metadata": {
        "id": "fGtLfRZs_I_j"
      }
    },
    {
      "cell_type": "markdown",
      "source": [
        "The Isolation Forest algorithm partitions data through a forest of decision trees. Each split of the data is made randomly and the number of splits it takes to isolate a record indicates whether the record is an anomaly. When a forest of random trees collectively produces shorter path lengths for particular samples, they are highly likely to be anomalies [(see their site for a more detailed explanation)](https://github.com/h2oai/h2o-tutorials/blob/master/tutorials/isolation-forest/interpreting_isolation-forest.ipynb). \n",
        "\n",
        "In the end, the Isolation Forest algorithm allows us to separate potentially anomalous data points from the rest. \n"
      ],
      "metadata": {
        "id": "N4DRwW4l_N6K"
      }
    },
    {
      "cell_type": "markdown",
      "source": [
        "### **Analysis** <a name=\"analysis\"></a>"
      ],
      "metadata": {
        "id": "rsxXQZ95_dDY"
      }
    },
    {
      "cell_type": "markdown",
      "source": [
        "####Run Isolation Trees algorithm on the data"
      ],
      "metadata": {
        "id": "eHJeho-B_e6b"
      }
    },
    {
      "cell_type": "markdown",
      "source": [
        "Before running the algorithm, we will select the dataset columns we want to include in the data quality assessment. Then, we will train the isolation tree algorithm on the selected data. "
      ],
      "metadata": {
        "id": "MLGTdqQo_oJs"
      }
    },
    {
      "cell_type": "code",
      "source": [
        "#define the columns of data we will use in our analysis\n",
        "x_var = ['Age', 'BusinessTravel', 'DailyRate', 'Department', 'DistanceFromHome', 'Education', 'EducationField', 'EnvironmentSatisfaction', \n",
        "         'Gender', 'HourlyRate', 'JobInvolvement', 'JobLevel', 'JobSatisfaction', 'MaritalStatus', 'MonthlyIncome', 'MonthlyRate',\n",
        "         'NumCompaniesWorked', 'Over18', 'OverTime', 'PercentSalaryHike', 'PerformanceRating', 'StandardHours', \n",
        "         'StockOptionLevel', 'TotalWorkingYears', 'TrainingTimesLastYear', 'WorkLifeBalance', 'YearsAtCompany', 'YearsInCurrentRole',\n",
        "         'YearsSinceLastPromotion', 'YearsWithCurrManager']\n",
        "\n",
        "#train the isolation trees model\n",
        "isolation_model = H2OIsolationForestEstimator(model_id = 'isolation_forest.hex', seed = 1234)\n",
        "training = isolation_model.train(training_frame = employee_data, x = x_var)\n",
        "training"
      ],
      "metadata": {
        "colab": {
          "base_uri": "https://localhost:8080/"
        },
        "id": "TcSLTWmG_4Hw",
        "outputId": "abcca4eb-2b25-47d9-9206-ad77a6d79ee9"
      },
      "execution_count": null,
      "outputs": [
        {
          "output_type": "stream",
          "name": "stdout",
          "text": [
            "isolationforest Model Build progress: |"
          ]
        },
        {
          "output_type": "stream",
          "name": "stderr",
          "text": [
            "/usr/local/lib/python3.7/dist-packages/h2o/estimators/estimator_base.py:208: RuntimeWarning: Dropping bad and constant columns: [StandardHours, Over18]\n",
            "  warnings.warn(mesg[\"message\"], RuntimeWarning)\n"
          ]
        },
        {
          "output_type": "stream",
          "name": "stdout",
          "text": [
            "██████████████████████████████████████████| (done) 100%\n",
            "Model Details\n",
            "=============\n",
            "H2OIsolationForestEstimator :  Isolation Forest\n",
            "Model Key:  isolation_forest.hex\n",
            "\n",
            "\n",
            "Model Summary: \n"
          ]
        },
        {
          "output_type": "display_data",
          "data": {
            "text/plain": [
              "     number_of_trees  number_of_internal_trees  model_size_in_bytes  \\\n",
              "0               50.0                      50.0              49978.0   \n",
              "\n",
              "   min_depth  max_depth  mean_depth  min_leaves  max_leaves  mean_leaves  \n",
              "0        8.0        8.0         8.0        22.0       120.0        74.88  "
            ],
            "text/html": [
              "\n",
              "  <div id=\"df-73e11e98-839a-4f76-b4fb-d1458abf5310\">\n",
              "    <div class=\"colab-df-container\">\n",
              "      <div>\n",
              "<style scoped>\n",
              "    .dataframe tbody tr th:only-of-type {\n",
              "        vertical-align: middle;\n",
              "    }\n",
              "\n",
              "    .dataframe tbody tr th {\n",
              "        vertical-align: top;\n",
              "    }\n",
              "\n",
              "    .dataframe thead th {\n",
              "        text-align: right;\n",
              "    }\n",
              "</style>\n",
              "<table border=\"1\" class=\"dataframe\">\n",
              "  <thead>\n",
              "    <tr style=\"text-align: right;\">\n",
              "      <th></th>\n",
              "      <th></th>\n",
              "      <th>number_of_trees</th>\n",
              "      <th>number_of_internal_trees</th>\n",
              "      <th>model_size_in_bytes</th>\n",
              "      <th>min_depth</th>\n",
              "      <th>max_depth</th>\n",
              "      <th>mean_depth</th>\n",
              "      <th>min_leaves</th>\n",
              "      <th>max_leaves</th>\n",
              "      <th>mean_leaves</th>\n",
              "    </tr>\n",
              "  </thead>\n",
              "  <tbody>\n",
              "    <tr>\n",
              "      <th>0</th>\n",
              "      <td></td>\n",
              "      <td>50.0</td>\n",
              "      <td>50.0</td>\n",
              "      <td>49978.0</td>\n",
              "      <td>8.0</td>\n",
              "      <td>8.0</td>\n",
              "      <td>8.0</td>\n",
              "      <td>22.0</td>\n",
              "      <td>120.0</td>\n",
              "      <td>74.88</td>\n",
              "    </tr>\n",
              "  </tbody>\n",
              "</table>\n",
              "</div>\n",
              "      <button class=\"colab-df-convert\" onclick=\"convertToInteractive('df-73e11e98-839a-4f76-b4fb-d1458abf5310')\"\n",
              "              title=\"Convert this dataframe to an interactive table.\"\n",
              "              style=\"display:none;\">\n",
              "        \n",
              "  <svg xmlns=\"http://www.w3.org/2000/svg\" height=\"24px\"viewBox=\"0 0 24 24\"\n",
              "       width=\"24px\">\n",
              "    <path d=\"M0 0h24v24H0V0z\" fill=\"none\"/>\n",
              "    <path d=\"M18.56 5.44l.94 2.06.94-2.06 2.06-.94-2.06-.94-.94-2.06-.94 2.06-2.06.94zm-11 1L8.5 8.5l.94-2.06 2.06-.94-2.06-.94L8.5 2.5l-.94 2.06-2.06.94zm10 10l.94 2.06.94-2.06 2.06-.94-2.06-.94-.94-2.06-.94 2.06-2.06.94z\"/><path d=\"M17.41 7.96l-1.37-1.37c-.4-.4-.92-.59-1.43-.59-.52 0-1.04.2-1.43.59L10.3 9.45l-7.72 7.72c-.78.78-.78 2.05 0 2.83L4 21.41c.39.39.9.59 1.41.59.51 0 1.02-.2 1.41-.59l7.78-7.78 2.81-2.81c.8-.78.8-2.07 0-2.86zM5.41 20L4 18.59l7.72-7.72 1.47 1.35L5.41 20z\"/>\n",
              "  </svg>\n",
              "      </button>\n",
              "      \n",
              "  <style>\n",
              "    .colab-df-container {\n",
              "      display:flex;\n",
              "      flex-wrap:wrap;\n",
              "      gap: 12px;\n",
              "    }\n",
              "\n",
              "    .colab-df-convert {\n",
              "      background-color: #E8F0FE;\n",
              "      border: none;\n",
              "      border-radius: 50%;\n",
              "      cursor: pointer;\n",
              "      display: none;\n",
              "      fill: #1967D2;\n",
              "      height: 32px;\n",
              "      padding: 0 0 0 0;\n",
              "      width: 32px;\n",
              "    }\n",
              "\n",
              "    .colab-df-convert:hover {\n",
              "      background-color: #E2EBFA;\n",
              "      box-shadow: 0px 1px 2px rgba(60, 64, 67, 0.3), 0px 1px 3px 1px rgba(60, 64, 67, 0.15);\n",
              "      fill: #174EA6;\n",
              "    }\n",
              "\n",
              "    [theme=dark] .colab-df-convert {\n",
              "      background-color: #3B4455;\n",
              "      fill: #D2E3FC;\n",
              "    }\n",
              "\n",
              "    [theme=dark] .colab-df-convert:hover {\n",
              "      background-color: #434B5C;\n",
              "      box-shadow: 0px 1px 3px 1px rgba(0, 0, 0, 0.15);\n",
              "      filter: drop-shadow(0px 1px 2px rgba(0, 0, 0, 0.3));\n",
              "      fill: #FFFFFF;\n",
              "    }\n",
              "  </style>\n",
              "\n",
              "      <script>\n",
              "        const buttonEl =\n",
              "          document.querySelector('#df-73e11e98-839a-4f76-b4fb-d1458abf5310 button.colab-df-convert');\n",
              "        buttonEl.style.display =\n",
              "          google.colab.kernel.accessAllowed ? 'block' : 'none';\n",
              "\n",
              "        async function convertToInteractive(key) {\n",
              "          const element = document.querySelector('#df-73e11e98-839a-4f76-b4fb-d1458abf5310');\n",
              "          const dataTable =\n",
              "            await google.colab.kernel.invokeFunction('convertToInteractive',\n",
              "                                                     [key], {});\n",
              "          if (!dataTable) return;\n",
              "\n",
              "          const docLinkHtml = 'Like what you see? Visit the ' +\n",
              "            '<a target=\"_blank\" href=https://colab.research.google.com/notebooks/data_table.ipynb>data table notebook</a>'\n",
              "            + ' to learn more about interactive tables.';\n",
              "          element.innerHTML = '';\n",
              "          dataTable['output_type'] = 'display_data';\n",
              "          await google.colab.output.renderOutput(dataTable, element);\n",
              "          const docLink = document.createElement('div');\n",
              "          docLink.innerHTML = docLinkHtml;\n",
              "          element.appendChild(docLink);\n",
              "        }\n",
              "      </script>\n",
              "    </div>\n",
              "  </div>\n",
              "  "
            ]
          },
          "metadata": {}
        },
        {
          "output_type": "stream",
          "name": "stdout",
          "text": [
            "\n",
            "\n",
            "ModelMetricsAnomaly: isolationforest\n",
            "** Reported on train data. **\n",
            "\n",
            "Anomaly Score: 6.69140874713062\n",
            "Normalized Anomaly Score: 0.18368526956510875\n",
            "\n",
            "Scoring History: \n"
          ]
        },
        {
          "output_type": "display_data",
          "data": {
            "text/plain": [
              "                timestamp    duration  number_of_trees  mean_tree_path_length  \\\n",
              "0     2022-07-13 07:56:12   0.155 sec              0.0                    NaN   \n",
              "1     2022-07-13 07:56:13   0.780 sec              1.0               6.629538   \n",
              "2     2022-07-13 07:56:13   0.886 sec              2.0               6.665275   \n",
              "3     2022-07-13 07:56:13   0.959 sec              3.0               6.695904   \n",
              "4     2022-07-13 07:56:13   1.035 sec              4.0               6.700500   \n",
              "5     2022-07-13 07:56:13   1.100 sec              5.0               6.706088   \n",
              "6     2022-07-13 07:56:13   1.162 sec              6.0               6.728481   \n",
              "7     2022-07-13 07:56:14   1.242 sec              7.0               6.722222   \n",
              "8     2022-07-13 07:56:14   1.292 sec              8.0               6.730419   \n",
              "9     2022-07-13 07:56:14   1.418 sec              9.0               6.726149   \n",
              "10    2022-07-13 07:56:14   1.483 sec             10.0               6.720083   \n",
              "11    2022-07-13 07:56:14   1.524 sec             11.0               6.710961   \n",
              "12    2022-07-13 07:56:14   1.563 sec             12.0               6.711118   \n",
              "13    2022-07-13 07:56:14   1.613 sec             13.0               6.720806   \n",
              "14    2022-07-13 07:56:14   1.674 sec             14.0               6.716586   \n",
              "15    2022-07-13 07:56:14   1.727 sec             15.0               6.710645   \n",
              "16    2022-07-13 07:56:14   1.762 sec             16.0               6.703393   \n",
              "17    2022-07-13 07:56:14   1.820 sec             17.0               6.697032   \n",
              "18    2022-07-13 07:56:14   1.886 sec             18.0               6.694417   \n",
              "19    2022-07-13 07:56:14   1.940 sec             19.0               6.696941   \n",
              "\n",
              "    mean_anomaly_score  \n",
              "0                  NaN  \n",
              "1             0.061744  \n",
              "2             0.066945  \n",
              "3             0.070176  \n",
              "4             0.079867  \n",
              "5             0.097971  \n",
              "6             0.090506  \n",
              "7             0.108025  \n",
              "8             0.119814  \n",
              "9             0.112030  \n",
              "10            0.116632  \n",
              "11            0.132476  \n",
              "12            0.144441  \n",
              "13            0.120984  \n",
              "14            0.120236  \n",
              "15            0.127657  \n",
              "16            0.139580  \n",
              "17            0.135538  \n",
              "18            0.144750  \n",
              "19            0.151529  "
            ],
            "text/html": [
              "\n",
              "  <div id=\"df-dedbd6a7-fa8f-47cc-bffb-4d009541aa1d\">\n",
              "    <div class=\"colab-df-container\">\n",
              "      <div>\n",
              "<style scoped>\n",
              "    .dataframe tbody tr th:only-of-type {\n",
              "        vertical-align: middle;\n",
              "    }\n",
              "\n",
              "    .dataframe tbody tr th {\n",
              "        vertical-align: top;\n",
              "    }\n",
              "\n",
              "    .dataframe thead th {\n",
              "        text-align: right;\n",
              "    }\n",
              "</style>\n",
              "<table border=\"1\" class=\"dataframe\">\n",
              "  <thead>\n",
              "    <tr style=\"text-align: right;\">\n",
              "      <th></th>\n",
              "      <th></th>\n",
              "      <th>timestamp</th>\n",
              "      <th>duration</th>\n",
              "      <th>number_of_trees</th>\n",
              "      <th>mean_tree_path_length</th>\n",
              "      <th>mean_anomaly_score</th>\n",
              "    </tr>\n",
              "  </thead>\n",
              "  <tbody>\n",
              "    <tr>\n",
              "      <th>0</th>\n",
              "      <td></td>\n",
              "      <td>2022-07-13 07:56:12</td>\n",
              "      <td>0.155 sec</td>\n",
              "      <td>0.0</td>\n",
              "      <td>NaN</td>\n",
              "      <td>NaN</td>\n",
              "    </tr>\n",
              "    <tr>\n",
              "      <th>1</th>\n",
              "      <td></td>\n",
              "      <td>2022-07-13 07:56:13</td>\n",
              "      <td>0.780 sec</td>\n",
              "      <td>1.0</td>\n",
              "      <td>6.629538</td>\n",
              "      <td>0.061744</td>\n",
              "    </tr>\n",
              "    <tr>\n",
              "      <th>2</th>\n",
              "      <td></td>\n",
              "      <td>2022-07-13 07:56:13</td>\n",
              "      <td>0.886 sec</td>\n",
              "      <td>2.0</td>\n",
              "      <td>6.665275</td>\n",
              "      <td>0.066945</td>\n",
              "    </tr>\n",
              "    <tr>\n",
              "      <th>3</th>\n",
              "      <td></td>\n",
              "      <td>2022-07-13 07:56:13</td>\n",
              "      <td>0.959 sec</td>\n",
              "      <td>3.0</td>\n",
              "      <td>6.695904</td>\n",
              "      <td>0.070176</td>\n",
              "    </tr>\n",
              "    <tr>\n",
              "      <th>4</th>\n",
              "      <td></td>\n",
              "      <td>2022-07-13 07:56:13</td>\n",
              "      <td>1.035 sec</td>\n",
              "      <td>4.0</td>\n",
              "      <td>6.700500</td>\n",
              "      <td>0.079867</td>\n",
              "    </tr>\n",
              "    <tr>\n",
              "      <th>5</th>\n",
              "      <td></td>\n",
              "      <td>2022-07-13 07:56:13</td>\n",
              "      <td>1.100 sec</td>\n",
              "      <td>5.0</td>\n",
              "      <td>6.706088</td>\n",
              "      <td>0.097971</td>\n",
              "    </tr>\n",
              "    <tr>\n",
              "      <th>6</th>\n",
              "      <td></td>\n",
              "      <td>2022-07-13 07:56:13</td>\n",
              "      <td>1.162 sec</td>\n",
              "      <td>6.0</td>\n",
              "      <td>6.728481</td>\n",
              "      <td>0.090506</td>\n",
              "    </tr>\n",
              "    <tr>\n",
              "      <th>7</th>\n",
              "      <td></td>\n",
              "      <td>2022-07-13 07:56:14</td>\n",
              "      <td>1.242 sec</td>\n",
              "      <td>7.0</td>\n",
              "      <td>6.722222</td>\n",
              "      <td>0.108025</td>\n",
              "    </tr>\n",
              "    <tr>\n",
              "      <th>8</th>\n",
              "      <td></td>\n",
              "      <td>2022-07-13 07:56:14</td>\n",
              "      <td>1.292 sec</td>\n",
              "      <td>8.0</td>\n",
              "      <td>6.730419</td>\n",
              "      <td>0.119814</td>\n",
              "    </tr>\n",
              "    <tr>\n",
              "      <th>9</th>\n",
              "      <td></td>\n",
              "      <td>2022-07-13 07:56:14</td>\n",
              "      <td>1.418 sec</td>\n",
              "      <td>9.0</td>\n",
              "      <td>6.726149</td>\n",
              "      <td>0.112030</td>\n",
              "    </tr>\n",
              "    <tr>\n",
              "      <th>10</th>\n",
              "      <td></td>\n",
              "      <td>2022-07-13 07:56:14</td>\n",
              "      <td>1.483 sec</td>\n",
              "      <td>10.0</td>\n",
              "      <td>6.720083</td>\n",
              "      <td>0.116632</td>\n",
              "    </tr>\n",
              "    <tr>\n",
              "      <th>11</th>\n",
              "      <td></td>\n",
              "      <td>2022-07-13 07:56:14</td>\n",
              "      <td>1.524 sec</td>\n",
              "      <td>11.0</td>\n",
              "      <td>6.710961</td>\n",
              "      <td>0.132476</td>\n",
              "    </tr>\n",
              "    <tr>\n",
              "      <th>12</th>\n",
              "      <td></td>\n",
              "      <td>2022-07-13 07:56:14</td>\n",
              "      <td>1.563 sec</td>\n",
              "      <td>12.0</td>\n",
              "      <td>6.711118</td>\n",
              "      <td>0.144441</td>\n",
              "    </tr>\n",
              "    <tr>\n",
              "      <th>13</th>\n",
              "      <td></td>\n",
              "      <td>2022-07-13 07:56:14</td>\n",
              "      <td>1.613 sec</td>\n",
              "      <td>13.0</td>\n",
              "      <td>6.720806</td>\n",
              "      <td>0.120984</td>\n",
              "    </tr>\n",
              "    <tr>\n",
              "      <th>14</th>\n",
              "      <td></td>\n",
              "      <td>2022-07-13 07:56:14</td>\n",
              "      <td>1.674 sec</td>\n",
              "      <td>14.0</td>\n",
              "      <td>6.716586</td>\n",
              "      <td>0.120236</td>\n",
              "    </tr>\n",
              "    <tr>\n",
              "      <th>15</th>\n",
              "      <td></td>\n",
              "      <td>2022-07-13 07:56:14</td>\n",
              "      <td>1.727 sec</td>\n",
              "      <td>15.0</td>\n",
              "      <td>6.710645</td>\n",
              "      <td>0.127657</td>\n",
              "    </tr>\n",
              "    <tr>\n",
              "      <th>16</th>\n",
              "      <td></td>\n",
              "      <td>2022-07-13 07:56:14</td>\n",
              "      <td>1.762 sec</td>\n",
              "      <td>16.0</td>\n",
              "      <td>6.703393</td>\n",
              "      <td>0.139580</td>\n",
              "    </tr>\n",
              "    <tr>\n",
              "      <th>17</th>\n",
              "      <td></td>\n",
              "      <td>2022-07-13 07:56:14</td>\n",
              "      <td>1.820 sec</td>\n",
              "      <td>17.0</td>\n",
              "      <td>6.697032</td>\n",
              "      <td>0.135538</td>\n",
              "    </tr>\n",
              "    <tr>\n",
              "      <th>18</th>\n",
              "      <td></td>\n",
              "      <td>2022-07-13 07:56:14</td>\n",
              "      <td>1.886 sec</td>\n",
              "      <td>18.0</td>\n",
              "      <td>6.694417</td>\n",
              "      <td>0.144750</td>\n",
              "    </tr>\n",
              "    <tr>\n",
              "      <th>19</th>\n",
              "      <td></td>\n",
              "      <td>2022-07-13 07:56:14</td>\n",
              "      <td>1.940 sec</td>\n",
              "      <td>19.0</td>\n",
              "      <td>6.696941</td>\n",
              "      <td>0.151529</td>\n",
              "    </tr>\n",
              "  </tbody>\n",
              "</table>\n",
              "</div>\n",
              "      <button class=\"colab-df-convert\" onclick=\"convertToInteractive('df-dedbd6a7-fa8f-47cc-bffb-4d009541aa1d')\"\n",
              "              title=\"Convert this dataframe to an interactive table.\"\n",
              "              style=\"display:none;\">\n",
              "        \n",
              "  <svg xmlns=\"http://www.w3.org/2000/svg\" height=\"24px\"viewBox=\"0 0 24 24\"\n",
              "       width=\"24px\">\n",
              "    <path d=\"M0 0h24v24H0V0z\" fill=\"none\"/>\n",
              "    <path d=\"M18.56 5.44l.94 2.06.94-2.06 2.06-.94-2.06-.94-.94-2.06-.94 2.06-2.06.94zm-11 1L8.5 8.5l.94-2.06 2.06-.94-2.06-.94L8.5 2.5l-.94 2.06-2.06.94zm10 10l.94 2.06.94-2.06 2.06-.94-2.06-.94-.94-2.06-.94 2.06-2.06.94z\"/><path d=\"M17.41 7.96l-1.37-1.37c-.4-.4-.92-.59-1.43-.59-.52 0-1.04.2-1.43.59L10.3 9.45l-7.72 7.72c-.78.78-.78 2.05 0 2.83L4 21.41c.39.39.9.59 1.41.59.51 0 1.02-.2 1.41-.59l7.78-7.78 2.81-2.81c.8-.78.8-2.07 0-2.86zM5.41 20L4 18.59l7.72-7.72 1.47 1.35L5.41 20z\"/>\n",
              "  </svg>\n",
              "      </button>\n",
              "      \n",
              "  <style>\n",
              "    .colab-df-container {\n",
              "      display:flex;\n",
              "      flex-wrap:wrap;\n",
              "      gap: 12px;\n",
              "    }\n",
              "\n",
              "    .colab-df-convert {\n",
              "      background-color: #E8F0FE;\n",
              "      border: none;\n",
              "      border-radius: 50%;\n",
              "      cursor: pointer;\n",
              "      display: none;\n",
              "      fill: #1967D2;\n",
              "      height: 32px;\n",
              "      padding: 0 0 0 0;\n",
              "      width: 32px;\n",
              "    }\n",
              "\n",
              "    .colab-df-convert:hover {\n",
              "      background-color: #E2EBFA;\n",
              "      box-shadow: 0px 1px 2px rgba(60, 64, 67, 0.3), 0px 1px 3px 1px rgba(60, 64, 67, 0.15);\n",
              "      fill: #174EA6;\n",
              "    }\n",
              "\n",
              "    [theme=dark] .colab-df-convert {\n",
              "      background-color: #3B4455;\n",
              "      fill: #D2E3FC;\n",
              "    }\n",
              "\n",
              "    [theme=dark] .colab-df-convert:hover {\n",
              "      background-color: #434B5C;\n",
              "      box-shadow: 0px 1px 3px 1px rgba(0, 0, 0, 0.15);\n",
              "      filter: drop-shadow(0px 1px 2px rgba(0, 0, 0, 0.3));\n",
              "      fill: #FFFFFF;\n",
              "    }\n",
              "  </style>\n",
              "\n",
              "      <script>\n",
              "        const buttonEl =\n",
              "          document.querySelector('#df-dedbd6a7-fa8f-47cc-bffb-4d009541aa1d button.colab-df-convert');\n",
              "        buttonEl.style.display =\n",
              "          google.colab.kernel.accessAllowed ? 'block' : 'none';\n",
              "\n",
              "        async function convertToInteractive(key) {\n",
              "          const element = document.querySelector('#df-dedbd6a7-fa8f-47cc-bffb-4d009541aa1d');\n",
              "          const dataTable =\n",
              "            await google.colab.kernel.invokeFunction('convertToInteractive',\n",
              "                                                     [key], {});\n",
              "          if (!dataTable) return;\n",
              "\n",
              "          const docLinkHtml = 'Like what you see? Visit the ' +\n",
              "            '<a target=\"_blank\" href=https://colab.research.google.com/notebooks/data_table.ipynb>data table notebook</a>'\n",
              "            + ' to learn more about interactive tables.';\n",
              "          element.innerHTML = '';\n",
              "          dataTable['output_type'] = 'display_data';\n",
              "          await google.colab.output.renderOutput(dataTable, element);\n",
              "          const docLink = document.createElement('div');\n",
              "          docLink.innerHTML = docLinkHtml;\n",
              "          element.appendChild(docLink);\n",
              "        }\n",
              "      </script>\n",
              "    </div>\n",
              "  </div>\n",
              "  "
            ]
          },
          "metadata": {}
        },
        {
          "output_type": "stream",
          "name": "stdout",
          "text": [
            "\n",
            "See the whole table with table.as_data_frame()\n"
          ]
        },
        {
          "output_type": "execute_result",
          "data": {
            "text/plain": [
              ""
            ]
          },
          "metadata": {},
          "execution_count": 5
        }
      ]
    },
    {
      "cell_type": "markdown",
      "source": [
        "Using the trained Isolation Forest model (above), we see an anamoly score of 6.69140874713062. We will use this value as the cutoff when labeling records that are likely anomalies. \n",
        "\n",
        "First, let's visualize the predictions using a histogram. "
      ],
      "metadata": {
        "id": "UP-3LTHuBLtL"
      }
    },
    {
      "cell_type": "code",
      "source": [
        "#define the preductions\n",
        "predictions = isolation_model.predict(employee_data)\n",
        "\n",
        "#plot a histogram of the mean_length scores to identify the cutoff for anomalies\n",
        "predictions['mean_length'].hist()"
      ],
      "metadata": {
        "colab": {
          "base_uri": "https://localhost:8080/"
        },
        "id": "hscXIpKJAHNN",
        "outputId": "4c530011-c372-4ee0-b3e8-f796b178269d"
      },
      "execution_count": null,
      "outputs": [
        {
          "output_type": "display_data",
          "data": {
            "text/plain": [
              "<Figure size 432x288 with 1 Axes>"
            ],
            "image/png": "[encoded data removed]"
          },
          "metadata": {
            "needs_background": "light"
          }
        },
        {
          "output_type": "display_data",
          "data": {
            "text/html": [
              "<table>\n",
              "<thead>\n",
              "<tr><th style=\"text-align: right;\">  breaks</th><th style=\"text-align: right;\">  counts</th><th style=\"text-align: right;\">  mids_true</th><th style=\"text-align: right;\">  mids</th><th style=\"text-align: right;\">  widths</th></tr>\n",
              "</thead>\n",
              "<tbody>\n",
              "<tr><td style=\"text-align: right;\">    5.46</td><td style=\"text-align: right;\">     nan</td><td style=\"text-align: right;\">     nan   </td><td style=\"text-align: right;\">nan   </td><td style=\"text-align: right;\">  nan   </td></tr>\n",
              "<tr><td style=\"text-align: right;\">    5.6 </td><td style=\"text-align: right;\">       3</td><td style=\"text-align: right;\">       2.66</td><td style=\"text-align: right;\">  5.53</td><td style=\"text-align: right;\">    0.14</td></tr>\n",
              "<tr><td style=\"text-align: right;\">    5.74</td><td style=\"text-align: right;\">       6</td><td style=\"text-align: right;\">       2.74</td><td style=\"text-align: right;\">  5.67</td><td style=\"text-align: right;\">    0.14</td></tr>\n",
              "<tr><td style=\"text-align: right;\">    5.88</td><td style=\"text-align: right;\">       7</td><td style=\"text-align: right;\">       2.83</td><td style=\"text-align: right;\">  5.81</td><td style=\"text-align: right;\">    0.14</td></tr>\n",
              "<tr><td style=\"text-align: right;\">    6.02</td><td style=\"text-align: right;\">       7</td><td style=\"text-align: right;\">       2.87</td><td style=\"text-align: right;\">  5.95</td><td style=\"text-align: right;\">    0.14</td></tr>\n",
              "<tr><td style=\"text-align: right;\">    6.16</td><td style=\"text-align: right;\">      19</td><td style=\"text-align: right;\">       2.95</td><td style=\"text-align: right;\">  6.09</td><td style=\"text-align: right;\">    0.14</td></tr>\n",
              "<tr><td style=\"text-align: right;\">    6.3 </td><td style=\"text-align: right;\">      11</td><td style=\"text-align: right;\">       3.02</td><td style=\"text-align: right;\">  6.23</td><td style=\"text-align: right;\">    0.14</td></tr>\n",
              "<tr><td style=\"text-align: right;\">    6.44</td><td style=\"text-align: right;\">      45</td><td style=\"text-align: right;\">       3.08</td><td style=\"text-align: right;\">  6.37</td><td style=\"text-align: right;\">    0.14</td></tr>\n",
              "<tr><td style=\"text-align: right;\">    6.58</td><td style=\"text-align: right;\">      70</td><td style=\"text-align: right;\">       3.16</td><td style=\"text-align: right;\">  6.51</td><td style=\"text-align: right;\">    0.14</td></tr>\n",
              "<tr><td style=\"text-align: right;\">    6.72</td><td style=\"text-align: right;\">     148</td><td style=\"text-align: right;\">       3.22</td><td style=\"text-align: right;\">  6.65</td><td style=\"text-align: right;\">    0.14</td></tr>\n",
              "</tbody>\n",
              "</table>"
            ]
          },
          "metadata": {}
        },
        {
          "output_type": "execute_result",
          "data": {
            "text/plain": [
              ""
            ]
          },
          "metadata": {},
          "execution_count": 7
        }
      ]
    },
    {
      "cell_type": "markdown",
      "source": [
        "####Define the anomalies"
      ],
      "metadata": {
        "id": "1eMTYhSnAMys"
      }
    },
    {
      "cell_type": "markdown",
      "source": [
        "Let's now see how many records have been identified as an anomaly using the anomaly score from the model above."
      ],
      "metadata": {
        "id": "rIPl9GIkAQqD"
      }
    },
    {
      "cell_type": "code",
      "source": [
        "#print the number of anomalies identified by the model\n",
        "anomalies = employee_data[predictions['mean_length'] < 6.69]\n",
        "print('Number of Anomalies: ' + str(anomalies.nrow))\n",
        "print('Number of Anomalies as Percent of Total: ', str(anomalies.nrow/1470))"
      ],
      "metadata": {
        "colab": {
          "base_uri": "https://localhost:8080/"
        },
        "id": "qUyHRlpjAIt3",
        "outputId": "2bc8cc2e-5b9b-4b68-ed17-66436b16c73b"
      },
      "execution_count": null,
      "outputs": [
        {
          "output_type": "stream",
          "name": "stdout",
          "text": [
            "Number of Anomalies: 541\n",
            "Number of Anomalies as Percent of Total:  0.36802721088435375\n"
          ]
        }
      ]
    },
    {
      "cell_type": "code",
      "source": [
        "#create a dataframe of the records identified as an anomaly from the model\n",
        "anomaly_records = isolation_model.predict(anomalies)['mean_length'].cbind(anomalies[x_var])\n",
        "print(anomaly_records.shape)\n",
        "anomaly_records.head()"
      ],
      "metadata": {
        "colab": {
          "base_uri": "https://localhost:8080/"
        },
        "id": "Vtje85GkAVXM",
        "outputId": "f7762fa9-9a26-459b-a2cc-dd91af78fde5"
      },
      "execution_count": null,
      "outputs": [
        {
          "output_type": "stream",
          "name": "stdout",
          "text": [
            "isolationforest prediction progress: |███████████████████████████████████████████| (done) 100%\n",
            "(541, 31)\n"
          ]
        },
        {
          "output_type": "display_data",
          "data": {
            "text/html": [
              "<table>\n",
              "<thead>\n",
              "<tr><th style=\"text-align: right;\">  mean_length</th><th style=\"text-align: right;\">  Age</th><th>BusinessTravel   </th><th style=\"text-align: right;\">  DailyRate</th><th>Department            </th><th style=\"text-align: right;\">  DistanceFromHome</th><th style=\"text-align: right;\">  Education</th><th>EducationField  </th><th style=\"text-align: right;\">  EnvironmentSatisfaction</th><th>Gender  </th><th style=\"text-align: right;\">  HourlyRate</th><th style=\"text-align: right;\">  JobInvolvement</th><th style=\"text-align: right;\">  JobLevel</th><th style=\"text-align: right;\">  JobSatisfaction</th><th>MaritalStatus  </th><th style=\"text-align: right;\">  MonthlyIncome</th><th style=\"text-align: right;\">  MonthlyRate</th><th style=\"text-align: right;\">  NumCompaniesWorked</th><th>Over18  </th><th>OverTime  </th><th style=\"text-align: right;\">  PercentSalaryHike</th><th style=\"text-align: right;\">  PerformanceRating</th><th style=\"text-align: right;\">  StandardHours</th><th style=\"text-align: right;\">  StockOptionLevel</th><th style=\"text-align: right;\">  TotalWorkingYears</th><th style=\"text-align: right;\">  TrainingTimesLastYear</th><th style=\"text-align: right;\">  WorkLifeBalance</th><th style=\"text-align: right;\">  YearsAtCompany</th><th style=\"text-align: right;\">  YearsInCurrentRole</th><th style=\"text-align: right;\">  YearsSinceLastPromotion</th><th style=\"text-align: right;\">  YearsWithCurrManager</th></tr>\n",
              "</thead>\n",
              "<tbody>\n",
              "<tr><td style=\"text-align: right;\">         6.42</td><td style=\"text-align: right;\">   41</td><td>Travel_Rarely    </td><td style=\"text-align: right;\">       1102</td><td>Sales                 </td><td style=\"text-align: right;\">                 1</td><td style=\"text-align: right;\">          2</td><td>Life Sciences   </td><td style=\"text-align: right;\">                        2</td><td>Female  </td><td style=\"text-align: right;\">          94</td><td style=\"text-align: right;\">               3</td><td style=\"text-align: right;\">         2</td><td style=\"text-align: right;\">                4</td><td>Single         </td><td style=\"text-align: right;\">           5993</td><td style=\"text-align: right;\">        19479</td><td style=\"text-align: right;\">                   8</td><td>Y       </td><td>Yes       </td><td style=\"text-align: right;\">                 11</td><td style=\"text-align: right;\">                  3</td><td style=\"text-align: right;\">             80</td><td style=\"text-align: right;\">                 0</td><td style=\"text-align: right;\">                  8</td><td style=\"text-align: right;\">                      0</td><td style=\"text-align: right;\">                1</td><td style=\"text-align: right;\">               6</td><td style=\"text-align: right;\">                   4</td><td style=\"text-align: right;\">                        0</td><td style=\"text-align: right;\">                     5</td></tr>\n",
              "<tr><td style=\"text-align: right;\">         6.62</td><td style=\"text-align: right;\">   37</td><td>Travel_Rarely    </td><td style=\"text-align: right;\">       1373</td><td>Research &amp; Development</td><td style=\"text-align: right;\">                 2</td><td style=\"text-align: right;\">          2</td><td>Other           </td><td style=\"text-align: right;\">                        4</td><td>Male    </td><td style=\"text-align: right;\">          92</td><td style=\"text-align: right;\">               2</td><td style=\"text-align: right;\">         1</td><td style=\"text-align: right;\">                3</td><td>Single         </td><td style=\"text-align: right;\">           2090</td><td style=\"text-align: right;\">         2396</td><td style=\"text-align: right;\">                   6</td><td>Y       </td><td>Yes       </td><td style=\"text-align: right;\">                 15</td><td style=\"text-align: right;\">                  3</td><td style=\"text-align: right;\">             80</td><td style=\"text-align: right;\">                 0</td><td style=\"text-align: right;\">                  7</td><td style=\"text-align: right;\">                      3</td><td style=\"text-align: right;\">                3</td><td style=\"text-align: right;\">               0</td><td style=\"text-align: right;\">                   0</td><td style=\"text-align: right;\">                        0</td><td style=\"text-align: right;\">                     0</td></tr>\n",
              "<tr><td style=\"text-align: right;\">         6.62</td><td style=\"text-align: right;\">   59</td><td>Travel_Rarely    </td><td style=\"text-align: right;\">       1324</td><td>Research &amp; Development</td><td style=\"text-align: right;\">                 3</td><td style=\"text-align: right;\">          3</td><td>Medical         </td><td style=\"text-align: right;\">                        3</td><td>Female  </td><td style=\"text-align: right;\">          81</td><td style=\"text-align: right;\">               4</td><td style=\"text-align: right;\">         1</td><td style=\"text-align: right;\">                1</td><td>Married        </td><td style=\"text-align: right;\">           2670</td><td style=\"text-align: right;\">         9964</td><td style=\"text-align: right;\">                   4</td><td>Y       </td><td>Yes       </td><td style=\"text-align: right;\">                 20</td><td style=\"text-align: right;\">                  4</td><td style=\"text-align: right;\">             80</td><td style=\"text-align: right;\">                 3</td><td style=\"text-align: right;\">                 12</td><td style=\"text-align: right;\">                      3</td><td style=\"text-align: right;\">                2</td><td style=\"text-align: right;\">               1</td><td style=\"text-align: right;\">                   0</td><td style=\"text-align: right;\">                        0</td><td style=\"text-align: right;\">                     0</td></tr>\n",
              "<tr><td style=\"text-align: right;\">         6.64</td><td style=\"text-align: right;\">   28</td><td>Travel_Rarely    </td><td style=\"text-align: right;\">        103</td><td>Research &amp; Development</td><td style=\"text-align: right;\">                24</td><td style=\"text-align: right;\">          3</td><td>Life Sciences   </td><td style=\"text-align: right;\">                        3</td><td>Male    </td><td style=\"text-align: right;\">          50</td><td style=\"text-align: right;\">               2</td><td style=\"text-align: right;\">         1</td><td style=\"text-align: right;\">                3</td><td>Single         </td><td style=\"text-align: right;\">           2028</td><td style=\"text-align: right;\">        12947</td><td style=\"text-align: right;\">                   5</td><td>Y       </td><td>Yes       </td><td style=\"text-align: right;\">                 14</td><td style=\"text-align: right;\">                  3</td><td style=\"text-align: right;\">             80</td><td style=\"text-align: right;\">                 0</td><td style=\"text-align: right;\">                  6</td><td style=\"text-align: right;\">                      4</td><td style=\"text-align: right;\">                3</td><td style=\"text-align: right;\">               4</td><td style=\"text-align: right;\">                   2</td><td style=\"text-align: right;\">                        0</td><td style=\"text-align: right;\">                     3</td></tr>\n",
              "<tr><td style=\"text-align: right;\">         6.64</td><td style=\"text-align: right;\">   22</td><td>Non-Travel       </td><td style=\"text-align: right;\">       1123</td><td>Research &amp; Development</td><td style=\"text-align: right;\">                16</td><td style=\"text-align: right;\">          2</td><td>Medical         </td><td style=\"text-align: right;\">                        4</td><td>Male    </td><td style=\"text-align: right;\">          96</td><td style=\"text-align: right;\">               4</td><td style=\"text-align: right;\">         1</td><td style=\"text-align: right;\">                4</td><td>Divorced       </td><td style=\"text-align: right;\">           2935</td><td style=\"text-align: right;\">         7324</td><td style=\"text-align: right;\">                   1</td><td>Y       </td><td>Yes       </td><td style=\"text-align: right;\">                 13</td><td style=\"text-align: right;\">                  3</td><td style=\"text-align: right;\">             80</td><td style=\"text-align: right;\">                 2</td><td style=\"text-align: right;\">                  1</td><td style=\"text-align: right;\">                      2</td><td style=\"text-align: right;\">                2</td><td style=\"text-align: right;\">               1</td><td style=\"text-align: right;\">                   0</td><td style=\"text-align: right;\">                        0</td><td style=\"text-align: right;\">                     0</td></tr>\n",
              "<tr><td style=\"text-align: right;\">         6.66</td><td style=\"text-align: right;\">   53</td><td>Travel_Rarely    </td><td style=\"text-align: right;\">       1219</td><td>Sales                 </td><td style=\"text-align: right;\">                 2</td><td style=\"text-align: right;\">          4</td><td>Life Sciences   </td><td style=\"text-align: right;\">                        1</td><td>Female  </td><td style=\"text-align: right;\">          78</td><td style=\"text-align: right;\">               2</td><td style=\"text-align: right;\">         4</td><td style=\"text-align: right;\">                4</td><td>Married        </td><td style=\"text-align: right;\">          15427</td><td style=\"text-align: right;\">        22021</td><td style=\"text-align: right;\">                   2</td><td>Y       </td><td>No        </td><td style=\"text-align: right;\">                 16</td><td style=\"text-align: right;\">                  3</td><td style=\"text-align: right;\">             80</td><td style=\"text-align: right;\">                 0</td><td style=\"text-align: right;\">                 31</td><td style=\"text-align: right;\">                      3</td><td style=\"text-align: right;\">                3</td><td style=\"text-align: right;\">              25</td><td style=\"text-align: right;\">                   8</td><td style=\"text-align: right;\">                        3</td><td style=\"text-align: right;\">                     7</td></tr>\n",
              "<tr><td style=\"text-align: right;\">         6.5 </td><td style=\"text-align: right;\">   24</td><td>Non-Travel       </td><td style=\"text-align: right;\">        673</td><td>Research &amp; Development</td><td style=\"text-align: right;\">                11</td><td style=\"text-align: right;\">          2</td><td>Other           </td><td style=\"text-align: right;\">                        1</td><td>Female  </td><td style=\"text-align: right;\">          96</td><td style=\"text-align: right;\">               4</td><td style=\"text-align: right;\">         2</td><td style=\"text-align: right;\">                3</td><td>Divorced       </td><td style=\"text-align: right;\">           4011</td><td style=\"text-align: right;\">         8232</td><td style=\"text-align: right;\">                   0</td><td>Y       </td><td>No        </td><td style=\"text-align: right;\">                 18</td><td style=\"text-align: right;\">                  3</td><td style=\"text-align: right;\">             80</td><td style=\"text-align: right;\">                 1</td><td style=\"text-align: right;\">                  5</td><td style=\"text-align: right;\">                      5</td><td style=\"text-align: right;\">                2</td><td style=\"text-align: right;\">               4</td><td style=\"text-align: right;\">                   2</td><td style=\"text-align: right;\">                        1</td><td style=\"text-align: right;\">                     3</td></tr>\n",
              "<tr><td style=\"text-align: right;\">         6.68</td><td style=\"text-align: right;\">   21</td><td>Travel_Rarely    </td><td style=\"text-align: right;\">        391</td><td>Research &amp; Development</td><td style=\"text-align: right;\">                15</td><td style=\"text-align: right;\">          2</td><td>Life Sciences   </td><td style=\"text-align: right;\">                        3</td><td>Male    </td><td style=\"text-align: right;\">          96</td><td style=\"text-align: right;\">               3</td><td style=\"text-align: right;\">         1</td><td style=\"text-align: right;\">                4</td><td>Single         </td><td style=\"text-align: right;\">           1232</td><td style=\"text-align: right;\">        19281</td><td style=\"text-align: right;\">                   1</td><td>Y       </td><td>No        </td><td style=\"text-align: right;\">                 14</td><td style=\"text-align: right;\">                  3</td><td style=\"text-align: right;\">             80</td><td style=\"text-align: right;\">                 0</td><td style=\"text-align: right;\">                  0</td><td style=\"text-align: right;\">                      6</td><td style=\"text-align: right;\">                3</td><td style=\"text-align: right;\">               0</td><td style=\"text-align: right;\">                   0</td><td style=\"text-align: right;\">                        0</td><td style=\"text-align: right;\">                     0</td></tr>\n",
              "<tr><td style=\"text-align: right;\">         6.6 </td><td style=\"text-align: right;\">   53</td><td>Travel_Rarely    </td><td style=\"text-align: right;\">       1282</td><td>Research &amp; Development</td><td style=\"text-align: right;\">                 5</td><td style=\"text-align: right;\">          3</td><td>Other           </td><td style=\"text-align: right;\">                        3</td><td>Female  </td><td style=\"text-align: right;\">          58</td><td style=\"text-align: right;\">               3</td><td style=\"text-align: right;\">         5</td><td style=\"text-align: right;\">                3</td><td>Divorced       </td><td style=\"text-align: right;\">          19094</td><td style=\"text-align: right;\">        10735</td><td style=\"text-align: right;\">                   4</td><td>Y       </td><td>No        </td><td style=\"text-align: right;\">                 11</td><td style=\"text-align: right;\">                  3</td><td style=\"text-align: right;\">             80</td><td style=\"text-align: right;\">                 1</td><td style=\"text-align: right;\">                 26</td><td style=\"text-align: right;\">                      3</td><td style=\"text-align: right;\">                2</td><td style=\"text-align: right;\">              14</td><td style=\"text-align: right;\">                  13</td><td style=\"text-align: right;\">                        4</td><td style=\"text-align: right;\">                     8</td></tr>\n",
              "<tr><td style=\"text-align: right;\">         6.58</td><td style=\"text-align: right;\">   32</td><td>Travel_Frequently</td><td style=\"text-align: right;\">       1125</td><td>Research &amp; Development</td><td style=\"text-align: right;\">                16</td><td style=\"text-align: right;\">          1</td><td>Life Sciences   </td><td style=\"text-align: right;\">                        2</td><td>Female  </td><td style=\"text-align: right;\">          72</td><td style=\"text-align: right;\">               1</td><td style=\"text-align: right;\">         1</td><td style=\"text-align: right;\">                1</td><td>Single         </td><td style=\"text-align: right;\">           3919</td><td style=\"text-align: right;\">         4681</td><td style=\"text-align: right;\">                   1</td><td>Y       </td><td>Yes       </td><td style=\"text-align: right;\">                 22</td><td style=\"text-align: right;\">                  4</td><td style=\"text-align: right;\">             80</td><td style=\"text-align: right;\">                 0</td><td style=\"text-align: right;\">                 10</td><td style=\"text-align: right;\">                      5</td><td style=\"text-align: right;\">                3</td><td style=\"text-align: right;\">              10</td><td style=\"text-align: right;\">                   2</td><td style=\"text-align: right;\">                        6</td><td style=\"text-align: right;\">                     7</td></tr>\n",
              "</tbody>\n",
              "</table>"
            ]
          },
          "metadata": {}
        },
        {
          "output_type": "execute_result",
          "data": {
            "text/plain": [
              ""
            ]
          },
          "metadata": {},
          "execution_count": 9
        }
      ]
    },
    {
      "cell_type": "markdown",
      "source": [
        "Next, we divide the anomalies into quartiles, allowing us to prioritize those that are most likely an anomaly over others that may be. This step is of course optional, depending on the number of anomalies identified, the standard of data quality that's needed, and the resources available to check the anomalies. "
      ],
      "metadata": {
        "id": "JuBdZtivBjkd"
      }
    },
    {
      "cell_type": "code",
      "source": [
        "#convert anomaly_records to Pandas dataframe to manipulate and calculate quartiles\n",
        "anomalies_df = h2o.as_list(anomaly_records)\n",
        "anomalies_df.head()\n",
        "\n",
        "#create a column for quartiles\n",
        "anomalies_df.insert(1, 'Quartile', '')\n",
        "\n",
        "#calculate the quartile of each mean_length\n",
        "anomalies_df['Quartile'] = pd.qcut(anomalies_df['mean_length'], q=4)\n",
        "\n",
        "print(\"Quartile Values: \", anomalies_df['Quartile'].unique())\n",
        "anomalies_df.head()"
      ],
      "metadata": {
        "colab": {
          "base_uri": "https://localhost:8080/"
        },
        "id": "bvsDyEOFBsf5",
        "outputId": "8b851be7-0b10-4d75-c6a4-7ddd82fd17f5"
      },
      "execution_count": null,
      "outputs": [
        {
          "output_type": "stream",
          "name": "stdout",
          "text": [
            "Quartile Values:  [(6.38, 6.54], (6.54, 6.62], (6.62, 6.68], (5.319, 6.38]]\n",
            "Categories (4, interval[float64, right]): [(5.319, 6.38] < (6.38, 6.54] < (6.54, 6.62] <\n",
            "                                           (6.62, 6.68]]\n"
          ]
        },
        {
          "output_type": "execute_result",
          "data": {
            "text/plain": [
              "   mean_length      Quartile  Age BusinessTravel  DailyRate  \\\n",
              "0         6.42  (6.38, 6.54]   41  Travel_Rarely       1102   \n",
              "1         6.62  (6.54, 6.62]   37  Travel_Rarely       1373   \n",
              "2         6.62  (6.54, 6.62]   59  Travel_Rarely       1324   \n",
              "3         6.64  (6.62, 6.68]   28  Travel_Rarely        103   \n",
              "4         6.64  (6.62, 6.68]   22     Non-Travel       1123   \n",
              "\n",
              "               Department  DistanceFromHome  Education EducationField  \\\n",
              "0                   Sales                 1          2  Life Sciences   \n",
              "1  Research & Development                 2          2          Other   \n",
              "2  Research & Development                 3          3        Medical   \n",
              "3  Research & Development                24          3  Life Sciences   \n",
              "4  Research & Development                16          2        Medical   \n",
              "\n",
              "   EnvironmentSatisfaction  ... PerformanceRating  StandardHours  \\\n",
              "0                        2  ...                 3             80   \n",
              "1                        4  ...                 3             80   \n",
              "2                        3  ...                 4             80   \n",
              "3                        3  ...                 3             80   \n",
              "4                        4  ...                 3             80   \n",
              "\n",
              "   StockOptionLevel  TotalWorkingYears  TrainingTimesLastYear WorkLifeBalance  \\\n",
              "0                 0                  8                      0               1   \n",
              "1                 0                  7                      3               3   \n",
              "2                 3                 12                      3               2   \n",
              "3                 0                  6                      4               3   \n",
              "4                 2                  1                      2               2   \n",
              "\n",
              "   YearsAtCompany  YearsInCurrentRole  YearsSinceLastPromotion  \\\n",
              "0               6                   4                        0   \n",
              "1               0                   0                        0   \n",
              "2               1                   0                        0   \n",
              "3               4                   2                        0   \n",
              "4               1                   0                        0   \n",
              "\n",
              "  YearsWithCurrManager  \n",
              "0                    5  \n",
              "1                    0  \n",
              "2                    0  \n",
              "3                    3  \n",
              "4                    0  \n",
              "\n",
              "[5 rows x 32 columns]"
            ],
            "text/html": [
              "\n",
              "  <div id=\"df-3d6c91f5-68b7-49ec-a006-989afd5df357\">\n",
              "    <div class=\"colab-df-container\">\n",
              "      <div>\n",
              "<style scoped>\n",
              "    .dataframe tbody tr th:only-of-type {\n",
              "        vertical-align: middle;\n",
              "    }\n",
              "\n",
              "    .dataframe tbody tr th {\n",
              "        vertical-align: top;\n",
              "    }\n",
              "\n",
              "    .dataframe thead th {\n",
              "        text-align: right;\n",
              "    }\n",
              "</style>\n",
              "<table border=\"1\" class=\"dataframe\">\n",
              "  <thead>\n",
              "    <tr style=\"text-align: right;\">\n",
              "      <th></th>\n",
              "      <th>mean_length</th>\n",
              "      <th>Quartile</th>\n",
              "      <th>Age</th>\n",
              "      <th>BusinessTravel</th>\n",
              "      <th>DailyRate</th>\n",
              "      <th>Department</th>\n",
              "      <th>DistanceFromHome</th>\n",
              "      <th>Education</th>\n",
              "      <th>EducationField</th>\n",
              "      <th>EnvironmentSatisfaction</th>\n",
              "      <th>...</th>\n",
              "      <th>PerformanceRating</th>\n",
              "      <th>StandardHours</th>\n",
              "      <th>StockOptionLevel</th>\n",
              "      <th>TotalWorkingYears</th>\n",
              "      <th>TrainingTimesLastYear</th>\n",
              "      <th>WorkLifeBalance</th>\n",
              "      <th>YearsAtCompany</th>\n",
              "      <th>YearsInCurrentRole</th>\n",
              "      <th>YearsSinceLastPromotion</th>\n",
              "      <th>YearsWithCurrManager</th>\n",
              "    </tr>\n",
              "  </thead>\n",
              "  <tbody>\n",
              "    <tr>\n",
              "      <th>0</th>\n",
              "      <td>6.42</td>\n",
              "      <td>(6.38, 6.54]</td>\n",
              "      <td>41</td>\n",
              "      <td>Travel_Rarely</td>\n",
              "      <td>1102</td>\n",
              "      <td>Sales</td>\n",
              "      <td>1</td>\n",
              "      <td>2</td>\n",
              "      <td>Life Sciences</td>\n",
              "      <td>2</td>\n",
              "      <td>...</td>\n",
              "      <td>3</td>\n",
              "      <td>80</td>\n",
              "      <td>0</td>\n",
              "      <td>8</td>\n",
              "      <td>0</td>\n",
              "      <td>1</td>\n",
              "      <td>6</td>\n",
              "      <td>4</td>\n",
              "      <td>0</td>\n",
              "      <td>5</td>\n",
              "    </tr>\n",
              "    <tr>\n",
              "      <th>1</th>\n",
              "      <td>6.62</td>\n",
              "      <td>(6.54, 6.62]</td>\n",
              "      <td>37</td>\n",
              "      <td>Travel_Rarely</td>\n",
              "      <td>1373</td>\n",
              "      <td>Research &amp; Development</td>\n",
              "      <td>2</td>\n",
              "      <td>2</td>\n",
              "      <td>Other</td>\n",
              "      <td>4</td>\n",
              "      <td>...</td>\n",
              "      <td>3</td>\n",
              "      <td>80</td>\n",
              "      <td>0</td>\n",
              "      <td>7</td>\n",
              "      <td>3</td>\n",
              "      <td>3</td>\n",
              "      <td>0</td>\n",
              "      <td>0</td>\n",
              "      <td>0</td>\n",
              "      <td>0</td>\n",
              "    </tr>\n",
              "    <tr>\n",
              "      <th>2</th>\n",
              "      <td>6.62</td>\n",
              "      <td>(6.54, 6.62]</td>\n",
              "      <td>59</td>\n",
              "      <td>Travel_Rarely</td>\n",
              "      <td>1324</td>\n",
              "      <td>Research &amp; Development</td>\n",
              "      <td>3</td>\n",
              "      <td>3</td>\n",
              "      <td>Medical</td>\n",
              "      <td>3</td>\n",
              "      <td>...</td>\n",
              "      <td>4</td>\n",
              "      <td>80</td>\n",
              "      <td>3</td>\n",
              "      <td>12</td>\n",
              "      <td>3</td>\n",
              "      <td>2</td>\n",
              "      <td>1</td>\n",
              "      <td>0</td>\n",
              "      <td>0</td>\n",
              "      <td>0</td>\n",
              "    </tr>\n",
              "    <tr>\n",
              "      <th>3</th>\n",
              "      <td>6.64</td>\n",
              "      <td>(6.62, 6.68]</td>\n",
              "      <td>28</td>\n",
              "      <td>Travel_Rarely</td>\n",
              "      <td>103</td>\n",
              "      <td>Research &amp; Development</td>\n",
              "      <td>24</td>\n",
              "      <td>3</td>\n",
              "      <td>Life Sciences</td>\n",
              "      <td>3</td>\n",
              "      <td>...</td>\n",
              "      <td>3</td>\n",
              "      <td>80</td>\n",
              "      <td>0</td>\n",
              "      <td>6</td>\n",
              "      <td>4</td>\n",
              "      <td>3</td>\n",
              "      <td>4</td>\n",
              "      <td>2</td>\n",
              "      <td>0</td>\n",
              "      <td>3</td>\n",
              "    </tr>\n",
              "    <tr>\n",
              "      <th>4</th>\n",
              "      <td>6.64</td>\n",
              "      <td>(6.62, 6.68]</td>\n",
              "      <td>22</td>\n",
              "      <td>Non-Travel</td>\n",
              "      <td>1123</td>\n",
              "      <td>Research &amp; Development</td>\n",
              "      <td>16</td>\n",
              "      <td>2</td>\n",
              "      <td>Medical</td>\n",
              "      <td>4</td>\n",
              "      <td>...</td>\n",
              "      <td>3</td>\n",
              "      <td>80</td>\n",
              "      <td>2</td>\n",
              "      <td>1</td>\n",
              "      <td>2</td>\n",
              "      <td>2</td>\n",
              "      <td>1</td>\n",
              "      <td>0</td>\n",
              "      <td>0</td>\n",
              "      <td>0</td>\n",
              "    </tr>\n",
              "  </tbody>\n",
              "</table>\n",
              "<p>5 rows × 32 columns</p>\n",
              "</div>\n",
              "      <button class=\"colab-df-convert\" onclick=\"convertToInteractive('df-3d6c91f5-68b7-49ec-a006-989afd5df357')\"\n",
              "              title=\"Convert this dataframe to an interactive table.\"\n",
              "              style=\"display:none;\">\n",
              "        \n",
              "  <svg xmlns=\"http://www.w3.org/2000/svg\" height=\"24px\"viewBox=\"0 0 24 24\"\n",
              "       width=\"24px\">\n",
              "    <path d=\"M0 0h24v24H0V0z\" fill=\"none\"/>\n",
              "    <path d=\"M18.56 5.44l.94 2.06.94-2.06 2.06-.94-2.06-.94-.94-2.06-.94 2.06-2.06.94zm-11 1L8.5 8.5l.94-2.06 2.06-.94-2.06-.94L8.5 2.5l-.94 2.06-2.06.94zm10 10l.94 2.06.94-2.06 2.06-.94-2.06-.94-.94-2.06-.94 2.06-2.06.94z\"/><path d=\"M17.41 7.96l-1.37-1.37c-.4-.4-.92-.59-1.43-.59-.52 0-1.04.2-1.43.59L10.3 9.45l-7.72 7.72c-.78.78-.78 2.05 0 2.83L4 21.41c.39.39.9.59 1.41.59.51 0 1.02-.2 1.41-.59l7.78-7.78 2.81-2.81c.8-.78.8-2.07 0-2.86zM5.41 20L4 18.59l7.72-7.72 1.47 1.35L5.41 20z\"/>\n",
              "  </svg>\n",
              "      </button>\n",
              "      \n",
              "  <style>\n",
              "    .colab-df-container {\n",
              "      display:flex;\n",
              "      flex-wrap:wrap;\n",
              "      gap: 12px;\n",
              "    }\n",
              "\n",
              "    .colab-df-convert {\n",
              "      background-color: #E8F0FE;\n",
              "      border: none;\n",
              "      border-radius: 50%;\n",
              "      cursor: pointer;\n",
              "      display: none;\n",
              "      fill: #1967D2;\n",
              "      height: 32px;\n",
              "      padding: 0 0 0 0;\n",
              "      width: 32px;\n",
              "    }\n",
              "\n",
              "    .colab-df-convert:hover {\n",
              "      background-color: #E2EBFA;\n",
              "      box-shadow: 0px 1px 2px rgba(60, 64, 67, 0.3), 0px 1px 3px 1px rgba(60, 64, 67, 0.15);\n",
              "      fill: #174EA6;\n",
              "    }\n",
              "\n",
              "    [theme=dark] .colab-df-convert {\n",
              "      background-color: #3B4455;\n",
              "      fill: #D2E3FC;\n",
              "    }\n",
              "\n",
              "    [theme=dark] .colab-df-convert:hover {\n",
              "      background-color: #434B5C;\n",
              "      box-shadow: 0px 1px 3px 1px rgba(0, 0, 0, 0.15);\n",
              "      filter: drop-shadow(0px 1px 2px rgba(0, 0, 0, 0.3));\n",
              "      fill: #FFFFFF;\n",
              "    }\n",
              "  </style>\n",
              "\n",
              "      <script>\n",
              "        const buttonEl =\n",
              "          document.querySelector('#df-3d6c91f5-68b7-49ec-a006-989afd5df357 button.colab-df-convert');\n",
              "        buttonEl.style.display =\n",
              "          google.colab.kernel.accessAllowed ? 'block' : 'none';\n",
              "\n",
              "        async function convertToInteractive(key) {\n",
              "          const element = document.querySelector('#df-3d6c91f5-68b7-49ec-a006-989afd5df357');\n",
              "          const dataTable =\n",
              "            await google.colab.kernel.invokeFunction('convertToInteractive',\n",
              "                                                     [key], {});\n",
              "          if (!dataTable) return;\n",
              "\n",
              "          const docLinkHtml = 'Like what you see? Visit the ' +\n",
              "            '<a target=\"_blank\" href=https://colab.research.google.com/notebooks/data_table.ipynb>data table notebook</a>'\n",
              "            + ' to learn more about interactive tables.';\n",
              "          element.innerHTML = '';\n",
              "          dataTable['output_type'] = 'display_data';\n",
              "          await google.colab.output.renderOutput(dataTable, element);\n",
              "          const docLink = document.createElement('div');\n",
              "          docLink.innerHTML = docLinkHtml;\n",
              "          element.appendChild(docLink);\n",
              "        }\n",
              "      </script>\n",
              "    </div>\n",
              "  </div>\n",
              "  "
            ]
          },
          "metadata": {},
          "execution_count": 10
        }
      ]
    },
    {
      "cell_type": "markdown",
      "source": [
        "The quartile cutoffs are below. We will use these scores later when we try to understand why these records have anomalies. \n",
        "\n",
        "*   1st quartile = 5.319 to 6.38\n",
        "*   2nd quartile = 6.38 to 6.54\n",
        "*   3rd quartile = 6.54 to 6.62\n",
        "*   4th quartile = 6.62 to 6.68\n",
        "\n",
        "Now let's see how many anomalies are in each quartile, so we can decide how many we want to evaluate further. "
      ],
      "metadata": {
        "id": "ZNmduuHFCGci"
      }
    },
    {
      "cell_type": "code",
      "source": [
        "#create a df of each quartile and print the shape of each\n",
        "first = anomalies_df.loc[anomalies_df['mean_length'] < 6.38]\n",
        "second = anomalies_df.loc[(anomalies_df['mean_length'] > 6.38) & (anomalies_df['mean_length'] < 6.54)]\n",
        "third = anomalies_df.loc[(anomalies_df['mean_length'] > 6.54) & (anomalies_df['mean_length'] < 6.62)]\n",
        "fourth = anomalies_df.loc[anomalies_df['mean_length'] > 6.62]\n",
        "\n",
        "print('# of 1st quartile: ', first.shape)\n",
        "print('# of 2nd quartile: ', second.shape)\n",
        "print('# of 3rd quartile: ', third.shape)\n",
        "print('# of 4th quartile: ', fourth.shape)"
      ],
      "metadata": {
        "colab": {
          "base_uri": "https://localhost:8080/"
        },
        "id": "oc1Hpg3yCF9D",
        "outputId": "13d4ae08-643d-42cd-c2fd-2c4b11da0886"
      },
      "execution_count": null,
      "outputs": [
        {
          "output_type": "stream",
          "name": "stdout",
          "text": [
            "# of 1st quartile:  (125, 32)\n",
            "# of 2nd quartile:  (111, 32)\n",
            "# of 3rd quartile:  (108, 32)\n",
            "# of 4th quartile:  (112, 32)\n"
          ]
        }
      ]
    },
    {
      "cell_type": "markdown",
      "source": [
        "####Understand the anomalies"
      ],
      "metadata": {
        "id": "NOelvOWpExXn"
      }
    },
    {
      "cell_type": "markdown",
      "source": [
        "Now that we've broken up the anomalies into quartiles, we will train a random forrest model to predict the the variables that led each record to be flagged as an anomaly. \n",
        "\n",
        "We will create a loop to repeat the process ten times for each record, increasing our certainty in identify the variables that contribute to its anaomaly status. \n",
        "\n",
        "But first, we need to create a list of the employee numbers (unique identifier) and an empty dictionary and dataframe, which we will later populate with the output of our model. "
      ],
      "metadata": {
        "id": "iAwSMIMiCrk4"
      }
    },
    {
      "cell_type": "code",
      "source": [
        "#redefine the anomalies df using the first quartile cutoff\n",
        "anomalies_first = employee_data[predictions['mean_length'] < 6.38]\n",
        "\n",
        "#copy employee data dataframe to analyize a single record previously identified as an anomaly\n",
        "local_surrogate_data = employee_data[:, :]"
      ],
      "metadata": {
        "id": "gtp9j65NB1JA"
      },
      "execution_count": null,
      "outputs": []
    },
    {
      "cell_type": "code",
      "source": [
        "#create Pandas df of anomalies table\n",
        "anomalies_df = anomalies_first.as_data_frame()\n",
        "\n",
        "#create a small test df - remove this code to run the model on the full df\n",
        "anomalies_df = anomalies_df.head(5)\n",
        "\n",
        "#create list of employees\n",
        "employees = anomalies_df['EmployeeNumber'].tolist()\n",
        "\n",
        "#create empty dictionary and df to populate with output from the model\n",
        "anomalies_dict = {}\n",
        "df_output = pd.DataFrame()"
      ],
      "metadata": {
        "id": "5CULwAU5DIYW"
      },
      "execution_count": null,
      "outputs": []
    },
    {
      "cell_type": "code",
      "source": [
        "#create loop to run model and extract variables with anomalies\n",
        "for E in employees: \n",
        "  num = 10\n",
        "  for x in range(num):\n",
        "    \n",
        "    #train model on anomaly record\n",
        "    local_surrogate_data[\"anomaly_record\"] = (local_surrogate_data[\"EmployeeNumber\"] == E).ifelse(\"Anomaly\", \"NotAnomaly\")\n",
        "\n",
        "    local_surrogate_dt = H2ORandomForestEstimator(model_id = \"local_level_surrogate_decision_tree.hex\", \n",
        "                                                ntrees = 1, max_depth = 4,\n",
        "                                                sample_rate = 1)\n",
        "    local_surrogate_dt.train(training_frame = local_surrogate_data, x = x_var, y = \"anomaly_record\")\n",
        "\n",
        "    #isolate variables with importance and create a frame\n",
        "    local_table = local_surrogate_dt.varimp()\n",
        "    frame = h2o.H2OFrame(local_table, header=-1)\n",
        "\n",
        "    #convert frame to Pandas df to manipulate and populate dictionary\n",
        "    df = frame.as_data_frame()\n",
        "    df = df[df.C4 != 0]\n",
        "\n",
        "    #calculate C4 - C2 to identify variables that need to be checked\n",
        "    diff = (df['C4'].sum()) - (df['C2'].sum())\n",
        "\n",
        "    #add values to dictionary and append to df \n",
        "    cols = df['C1'].tolist()\n",
        "    anomalies_dict = {'EmployeeNumber': E, 'Variables': cols, 'Result': diff}\n",
        "    df_output = df_output.append(anomalies_dict, ignore_index=True)\n",
        "\n",
        "    print('Employee completed: ', E)\n",
        "\n",
        "#drop rows where the result is >0.001\n",
        "df_output = df_output[df_output.Result < 0.001]\n",
        "\n",
        "#drop Result column\n",
        "df_output = df_output.drop('Result', 1)"
      ],
      "metadata": {
        "colab": {
          "base_uri": "https://localhost:8080/"
        },
        "id": "rBFOMhCFDKa2",
        "outputId": "692c5a44-032a-4216-9ecc-c17c41437f84"
      },
      "execution_count": null,
      "outputs": [
        {
          "output_type": "stream",
          "name": "stdout",
          "text": [
            "drf Model Build progress: |"
          ]
        },
        {
          "output_type": "stream",
          "name": "stderr",
          "text": [
            "/usr/local/lib/python3.7/dist-packages/h2o/estimators/estimator_base.py:208: RuntimeWarning: Dropping bad and constant columns: [StandardHours, Over18]\n",
            "  warnings.warn(mesg[\"message\"], RuntimeWarning)\n",
            "/usr/local/lib/python3.7/dist-packages/h2o/estimators/estimator_base.py:208: RuntimeWarning: Sample rate is 100% and no validation dataset and no cross-validation. There are no out-of-bag data to compute error estimates on the training data!\n",
            "  warnings.warn(mesg[\"message\"], RuntimeWarning)\n"
          ]
        },
        {
          "output_type": "stream",
          "name": "stdout",
          "text": [
            "██████████████████████████████████████████████████████| (done) 100%\n",
            "Parse progress: |████████████████████████████████████████████████████████████████| (done) 100%\n",
            "Employee completed:  58\n",
            "drf Model Build progress: |"
          ]
        },
        {
          "output_type": "stream",
          "name": "stderr",
          "text": [
            "/usr/local/lib/python3.7/dist-packages/h2o/estimators/estimator_base.py:208: RuntimeWarning: Dropping bad and constant columns: [StandardHours, Over18]\n",
            "  warnings.warn(mesg[\"message\"], RuntimeWarning)\n",
            "/usr/local/lib/python3.7/dist-packages/h2o/estimators/estimator_base.py:208: RuntimeWarning: Sample rate is 100% and no validation dataset and no cross-validation. There are no out-of-bag data to compute error estimates on the training data!\n",
            "  warnings.warn(mesg[\"message\"], RuntimeWarning)\n"
          ]
        },
        {
          "output_type": "stream",
          "name": "stdout",
          "text": [
            "██████████████████████████████████████████████████████| (done) 100%\n",
            "Parse progress: |████████████████████████████████████████████████████████████████| (done) 100%\n",
            "Employee completed:  58\n",
            "drf Model Build progress: |██████████████████████████████████████████████████████| (done) 100%\n",
            "Parse progress: |████████████████████████████████████████████████████████████████| (done) 100%\n",
            "Employee completed:  58\n",
            "drf Model Build progress: |██████████████████████████████████████████████████████| (done) 100%\n",
            "Parse progress: |████████████████████████████████████████████████████████████████| (done) 100%\n",
            "Employee completed:  58\n",
            "drf Model Build progress: |██████████████████████████████████████████████████████| (done) 100%\n",
            "Parse progress: |████████████████████████████████████████████████████████████████| (done) 100%\n",
            "Employee completed:  58\n",
            "drf Model Build progress: |██████████████████████████████████████████████████████| (done) 100%\n",
            "Parse progress: |████████████████████████████████████████████████████████████████| (done) 100%\n",
            "Employee completed:  58\n",
            "drf Model Build progress: |██████████████████████████████████████████████████████| (done) 100%\n",
            "Parse progress: |████████████████████████████████████████████████████████████████| (done) 100%\n",
            "Employee completed:  58\n",
            "drf Model Build progress: |██████████████████████████████████████████████████████| (done) 100%\n",
            "Parse progress: |████████████████████████████████████████████████████████████████| (done) 100%\n",
            "Employee completed:  58\n",
            "drf Model Build progress: |██████████████████████████████████████████████████████| (done) 100%\n",
            "Parse progress: |████████████████████████████████████████████████████████████████| (done) 100%\n",
            "Employee completed:  58\n",
            "drf Model Build progress: |██████████████████████████████████████████████████████| (done) 100%\n",
            "Parse progress: |████████████████████████████████████████████████████████████████| (done) 100%\n",
            "Employee completed:  58\n",
            "drf Model Build progress: |██████████████████████████████████████████████████████| (done) 100%\n",
            "Parse progress: |████████████████████████████████████████████████████████████████| (done) 100%\n",
            "Employee completed:  73\n",
            "drf Model Build progress: |██████████████████████████████████████████████████████| (done) 100%\n",
            "Parse progress: |████████████████████████████████████████████████████████████████| (done) 100%\n",
            "Employee completed:  73\n",
            "drf Model Build progress: |██████████████████████████████████████████████████████| (done) 100%\n",
            "Parse progress: |████████████████████████████████████████████████████████████████| (done) 100%\n",
            "Employee completed:  73\n",
            "drf Model Build progress: |██████████████████████████████████████████████████████| (done) 100%\n",
            "Parse progress: |████████████████████████████████████████████████████████████████| (done) 100%\n",
            "Employee completed:  73\n",
            "drf Model Build progress: |██████████████████████████████████████████████████████| (done) 100%\n",
            "Parse progress: |████████████████████████████████████████████████████████████████| (done) 100%\n",
            "Employee completed:  73\n",
            "drf Model Build progress: |██████████████████████████████████████████████████████| (done) 100%\n",
            "Parse progress: |████████████████████████████████████████████████████████████████| (done) 100%\n",
            "Employee completed:  73\n",
            "drf Model Build progress: |██████████████████████████████████████████████████████| (done) 100%\n",
            "Parse progress: |████████████████████████████████████████████████████████████████| (done) 100%\n",
            "Employee completed:  73\n",
            "drf Model Build progress: |██████████████████████████████████████████████████████| (done) 100%\n",
            "Parse progress: |████████████████████████████████████████████████████████████████| (done) 100%\n",
            "Employee completed:  73\n",
            "drf Model Build progress: |██████████████████████████████████████████████████████| (done) 100%\n",
            "Parse progress: |████████████████████████████████████████████████████████████████| (done) 100%\n",
            "Employee completed:  73\n",
            "drf Model Build progress: |██████████████████████████████████████████████████████| (done) 100%\n",
            "Parse progress: |████████████████████████████████████████████████████████████████| (done) 100%\n",
            "Employee completed:  73\n",
            "drf Model Build progress: |██████████████████████████████████████████████████████| (done) 100%\n",
            "Parse progress: |████████████████████████████████████████████████████████████████| (done) 100%\n",
            "Employee completed:  81\n",
            "drf Model Build progress: |██████████████████████████████████████████████████████| (done) 100%\n",
            "Parse progress: |████████████████████████████████████████████████████████████████| (done) 100%\n",
            "Employee completed:  81\n",
            "drf Model Build progress: |██████████████████████████████████████████████████████| (done) 100%\n",
            "Parse progress: |████████████████████████████████████████████████████████████████| (done) 100%\n",
            "Employee completed:  81\n",
            "drf Model Build progress: |██████████████████████████████████████████████████████| (done) 100%\n",
            "Parse progress: |████████████████████████████████████████████████████████████████| (done) 100%\n",
            "Employee completed:  81\n",
            "drf Model Build progress: |██████████████████████████████████████████████████████| (done) 100%\n",
            "Parse progress: |████████████████████████████████████████████████████████████████| (done) 100%\n",
            "Employee completed:  81\n",
            "drf Model Build progress: |██████████████████████████████████████████████████████| (done) 100%\n",
            "Parse progress: |████████████████████████████████████████████████████████████████| (done) 100%\n",
            "Employee completed:  81\n",
            "drf Model Build progress: |██████████████████████████████████████████████████████| (done) 100%\n",
            "Parse progress: |████████████████████████████████████████████████████████████████| (done) 100%\n",
            "Employee completed:  81\n",
            "drf Model Build progress: |██████████████████████████████████████████████████████| (done) 100%\n",
            "Parse progress: |████████████████████████████████████████████████████████████████| (done) 100%\n",
            "Employee completed:  81\n",
            "drf Model Build progress: |██████████████████████████████████████████████████████| (done) 100%\n",
            "Parse progress: |████████████████████████████████████████████████████████████████| (done) 100%\n",
            "Employee completed:  81\n",
            "drf Model Build progress: |██████████████████████████████████████████████████████| (done) 100%\n",
            "Parse progress: |████████████████████████████████████████████████████████████████| (done) 100%\n",
            "Employee completed:  81\n",
            "drf Model Build progress: |██████████████████████████████████████████████████████| (done) 100%\n",
            "Parse progress: |████████████████████████████████████████████████████████████████| (done) 100%\n",
            "Employee completed:  107\n",
            "drf Model Build progress: |██████████████████████████████████████████████████████| (done) 100%\n",
            "Parse progress: |████████████████████████████████████████████████████████████████| (done) 100%\n",
            "Employee completed:  107\n",
            "drf Model Build progress: |██████████████████████████████████████████████████████| (done) 100%\n",
            "Parse progress: |████████████████████████████████████████████████████████████████| (done) 100%\n",
            "Employee completed:  107\n",
            "drf Model Build progress: |██████████████████████████████████████████████████████| (done) 100%\n",
            "Parse progress: |████████████████████████████████████████████████████████████████| (done) 100%\n",
            "Employee completed:  107\n",
            "drf Model Build progress: |██████████████████████████████████████████████████████| (done) 100%\n",
            "Parse progress: |████████████████████████████████████████████████████████████████| (done) 100%\n",
            "Employee completed:  107\n",
            "drf Model Build progress: |██████████████████████████████████████████████████████| (done) 100%\n",
            "Parse progress: |████████████████████████████████████████████████████████████████| (done) 100%\n",
            "Employee completed:  107\n",
            "drf Model Build progress: |██████████████████████████████████████████████████████| (done) 100%\n",
            "Parse progress: |████████████████████████████████████████████████████████████████| (done) 100%\n",
            "Employee completed:  107\n",
            "drf Model Build progress: |██████████████████████████████████████████████████████| (done) 100%\n",
            "Parse progress: |████████████████████████████████████████████████████████████████| (done) 100%\n",
            "Employee completed:  107\n",
            "drf Model Build progress: |██████████████████████████████████████████████████████| (done) 100%\n",
            "Parse progress: |████████████████████████████████████████████████████████████████| (done) 100%\n",
            "Employee completed:  107\n",
            "drf Model Build progress: |██████████████████████████████████████████████████████| (done) 100%\n",
            "Parse progress: |████████████████████████████████████████████████████████████████| (done) 100%\n",
            "Employee completed:  107\n",
            "drf Model Build progress: |██████████████████████████████████████████████████████| (done) 100%\n",
            "Parse progress: |████████████████████████████████████████████████████████████████| (done) 100%\n",
            "Employee completed:  112\n",
            "drf Model Build progress: |██████████████████████████████████████████████████████| (done) 100%\n",
            "Parse progress: |████████████████████████████████████████████████████████████████| (done) 100%\n",
            "Employee completed:  112\n",
            "drf Model Build progress: |██████████████████████████████████████████████████████| (done) 100%\n",
            "Parse progress: |████████████████████████████████████████████████████████████████| (done) 100%\n",
            "Employee completed:  112\n",
            "drf Model Build progress: |██████████████████████████████████████████████████████| (done) 100%\n",
            "Parse progress: |████████████████████████████████████████████████████████████████| (done) 100%\n",
            "Employee completed:  112\n",
            "drf Model Build progress: |██████████████████████████████████████████████████████| (done) 100%\n",
            "Parse progress: |████████████████████████████████████████████████████████████████| (done) 100%\n",
            "Employee completed:  112\n",
            "drf Model Build progress: |██████████████████████████████████████████████████████| (done) 100%\n",
            "Parse progress: |████████████████████████████████████████████████████████████████| (done) 100%\n",
            "Employee completed:  112\n",
            "drf Model Build progress: |██████████████████████████████████████████████████████| (done) 100%\n",
            "Parse progress: |████████████████████████████████████████████████████████████████| (done) 100%\n",
            "Employee completed:  112\n",
            "drf Model Build progress: |██████████████████████████████████████████████████████| (done) 100%\n",
            "Parse progress: |████████████████████████████████████████████████████████████████| (done) 100%\n",
            "Employee completed:  112\n",
            "drf Model Build progress: |██████████████████████████████████████████████████████| (done) 100%\n",
            "Parse progress: |████████████████████████████████████████████████████████████████| (done) 100%\n",
            "Employee completed:  112\n",
            "drf Model Build progress: |██████████████████████████████████████████████████████| (done) 100%\n",
            "Parse progress: |████████████████████████████████████████████████████████████████| (done) 100%\n",
            "Employee completed:  112\n"
          ]
        },
        {
          "output_type": "stream",
          "name": "stderr",
          "text": [
            "/usr/local/lib/python3.7/dist-packages/ipykernel_launcher.py:36: FutureWarning: In a future version of pandas all arguments of DataFrame.drop except for the argument 'labels' will be keyword-only\n"
          ]
        }
      ]
    },
    {
      "cell_type": "markdown",
      "source": [
        "We now have a Pandas df of the employee number and variables that were flagged as anomalous by the model. Let's now group the variables by employee number and only keep those that came up more than once. "
      ],
      "metadata": {
        "id": "aZKfabJwDc9m"
      }
    },
    {
      "cell_type": "code",
      "source": [
        "#explode lists into rows for each row\n",
        "df_final = df_output.explode('Variables')\n",
        "\n",
        "#group the df by employee number and count the number of times the variable comes up\n",
        "df_final = df_final.groupby(['EmployeeNumber', 'Variables']).size().reset_index(name='Count')\n",
        "\n",
        "#sort by employee number then by count (descending)\n",
        "df_final = df_final.sort_values(['EmployeeNumber', 'Count'], ascending = [True, False ])\n",
        "\n",
        "#drop rows where count < 2\n",
        "df_final = df_final[df_final.Count > 1]\n",
        "\n",
        "#group by EmployeeNumber and create list of variables, in rank order by highest frequency to lowest\n",
        "df_final = df_final.groupby('EmployeeNumber')['Variables'].apply(list).reset_index()\n",
        "\n",
        "\n",
        "df_final.head(20)"
      ],
      "metadata": {
        "colab": {
          "base_uri": "https://localhost:8080/",
          "height": 206
        },
        "id": "w-yVvQ20DRAf",
        "outputId": "810853a1-55db-4dea-aa18-85357a2dba14"
      },
      "execution_count": null,
      "outputs": [
        {
          "output_type": "execute_result",
          "data": {
            "text/plain": [
              "   EmployeeNumber  \\\n",
              "0            58.0   \n",
              "1            73.0   \n",
              "2            81.0   \n",
              "3           107.0   \n",
              "4           112.0   \n",
              "\n",
              "                                                               Variables  \n",
              "0  [MonthlyIncome, YearsInCurrentRole, YearsSinceLastPromotion, Train...  \n",
              "1  [TrainingTimesLastYear, EnvironmentSatisfaction, MonthlyIncome, Ye...  \n",
              "2  [DistanceFromHome, YearsInCurrentRole, Age, DailyRate, HourlyRate,...  \n",
              "3  [StockOptionLevel, BusinessTravel, YearsInCurrentRole, Age, OverTi...  \n",
              "4  [TotalWorkingYears, MonthlyRate, JobInvolvement, MonthlyIncome, Pe...  "
            ],
            "text/html": [
              "\n",
              "  <div id=\"df-8cfa957e-67d5-4967-b793-76b469d7a6ce\">\n",
              "    <div class=\"colab-df-container\">\n",
              "      <div>\n",
              "<style scoped>\n",
              "    .dataframe tbody tr th:only-of-type {\n",
              "        vertical-align: middle;\n",
              "    }\n",
              "\n",
              "    .dataframe tbody tr th {\n",
              "        vertical-align: top;\n",
              "    }\n",
              "\n",
              "    .dataframe thead th {\n",
              "        text-align: right;\n",
              "    }\n",
              "</style>\n",
              "<table border=\"1\" class=\"dataframe\">\n",
              "  <thead>\n",
              "    <tr style=\"text-align: right;\">\n",
              "      <th></th>\n",
              "      <th>EmployeeNumber</th>\n",
              "      <th>Variables</th>\n",
              "    </tr>\n",
              "  </thead>\n",
              "  <tbody>\n",
              "    <tr>\n",
              "      <th>0</th>\n",
              "      <td>58.0</td>\n",
              "      <td>[MonthlyIncome, YearsInCurrentRole, YearsSinceLastPromotion, Train...</td>\n",
              "    </tr>\n",
              "    <tr>\n",
              "      <th>1</th>\n",
              "      <td>73.0</td>\n",
              "      <td>[TrainingTimesLastYear, EnvironmentSatisfaction, MonthlyIncome, Ye...</td>\n",
              "    </tr>\n",
              "    <tr>\n",
              "      <th>2</th>\n",
              "      <td>81.0</td>\n",
              "      <td>[DistanceFromHome, YearsInCurrentRole, Age, DailyRate, HourlyRate,...</td>\n",
              "    </tr>\n",
              "    <tr>\n",
              "      <th>3</th>\n",
              "      <td>107.0</td>\n",
              "      <td>[StockOptionLevel, BusinessTravel, YearsInCurrentRole, Age, OverTi...</td>\n",
              "    </tr>\n",
              "    <tr>\n",
              "      <th>4</th>\n",
              "      <td>112.0</td>\n",
              "      <td>[TotalWorkingYears, MonthlyRate, JobInvolvement, MonthlyIncome, Pe...</td>\n",
              "    </tr>\n",
              "  </tbody>\n",
              "</table>\n",
              "</div>\n",
              "      <button class=\"colab-df-convert\" onclick=\"convertToInteractive('df-8cfa957e-67d5-4967-b793-76b469d7a6ce')\"\n",
              "              title=\"Convert this dataframe to an interactive table.\"\n",
              "              style=\"display:none;\">\n",
              "        \n",
              "  <svg xmlns=\"http://www.w3.org/2000/svg\" height=\"24px\"viewBox=\"0 0 24 24\"\n",
              "       width=\"24px\">\n",
              "    <path d=\"M0 0h24v24H0V0z\" fill=\"none\"/>\n",
              "    <path d=\"M18.56 5.44l.94 2.06.94-2.06 2.06-.94-2.06-.94-.94-2.06-.94 2.06-2.06.94zm-11 1L8.5 8.5l.94-2.06 2.06-.94-2.06-.94L8.5 2.5l-.94 2.06-2.06.94zm10 10l.94 2.06.94-2.06 2.06-.94-2.06-.94-.94-2.06-.94 2.06-2.06.94z\"/><path d=\"M17.41 7.96l-1.37-1.37c-.4-.4-.92-.59-1.43-.59-.52 0-1.04.2-1.43.59L10.3 9.45l-7.72 7.72c-.78.78-.78 2.05 0 2.83L4 21.41c.39.39.9.59 1.41.59.51 0 1.02-.2 1.41-.59l7.78-7.78 2.81-2.81c.8-.78.8-2.07 0-2.86zM5.41 20L4 18.59l7.72-7.72 1.47 1.35L5.41 20z\"/>\n",
              "  </svg>\n",
              "      </button>\n",
              "      \n",
              "  <style>\n",
              "    .colab-df-container {\n",
              "      display:flex;\n",
              "      flex-wrap:wrap;\n",
              "      gap: 12px;\n",
              "    }\n",
              "\n",
              "    .colab-df-convert {\n",
              "      background-color: #E8F0FE;\n",
              "      border: none;\n",
              "      border-radius: 50%;\n",
              "      cursor: pointer;\n",
              "      display: none;\n",
              "      fill: #1967D2;\n",
              "      height: 32px;\n",
              "      padding: 0 0 0 0;\n",
              "      width: 32px;\n",
              "    }\n",
              "\n",
              "    .colab-df-convert:hover {\n",
              "      background-color: #E2EBFA;\n",
              "      box-shadow: 0px 1px 2px rgba(60, 64, 67, 0.3), 0px 1px 3px 1px rgba(60, 64, 67, 0.15);\n",
              "      fill: #174EA6;\n",
              "    }\n",
              "\n",
              "    [theme=dark] .colab-df-convert {\n",
              "      background-color: #3B4455;\n",
              "      fill: #D2E3FC;\n",
              "    }\n",
              "\n",
              "    [theme=dark] .colab-df-convert:hover {\n",
              "      background-color: #434B5C;\n",
              "      box-shadow: 0px 1px 3px 1px rgba(0, 0, 0, 0.15);\n",
              "      filter: drop-shadow(0px 1px 2px rgba(0, 0, 0, 0.3));\n",
              "      fill: #FFFFFF;\n",
              "    }\n",
              "  </style>\n",
              "\n",
              "      <script>\n",
              "        const buttonEl =\n",
              "          document.querySelector('#df-8cfa957e-67d5-4967-b793-76b469d7a6ce button.colab-df-convert');\n",
              "        buttonEl.style.display =\n",
              "          google.colab.kernel.accessAllowed ? 'block' : 'none';\n",
              "\n",
              "        async function convertToInteractive(key) {\n",
              "          const element = document.querySelector('#df-8cfa957e-67d5-4967-b793-76b469d7a6ce');\n",
              "          const dataTable =\n",
              "            await google.colab.kernel.invokeFunction('convertToInteractive',\n",
              "                                                     [key], {});\n",
              "          if (!dataTable) return;\n",
              "\n",
              "          const docLinkHtml = 'Like what you see? Visit the ' +\n",
              "            '<a target=\"_blank\" href=https://colab.research.google.com/notebooks/data_table.ipynb>data table notebook</a>'\n",
              "            + ' to learn more about interactive tables.';\n",
              "          element.innerHTML = '';\n",
              "          dataTable['output_type'] = 'display_data';\n",
              "          await google.colab.output.renderOutput(dataTable, element);\n",
              "          const docLink = document.createElement('div');\n",
              "          docLink.innerHTML = docLinkHtml;\n",
              "          element.appendChild(docLink);\n",
              "        }\n",
              "      </script>\n",
              "    </div>\n",
              "  </div>\n",
              "  "
            ]
          },
          "metadata": {},
          "execution_count": 15
        }
      ]
    },
    {
      "cell_type": "markdown",
      "source": [
        "### **Results** <a name=\"results\"></a>"
      ],
      "metadata": {
        "id": "legwdnEVD2wL"
      }
    },
    {
      "cell_type": "markdown",
      "source": [
        "The output from our model has created a Pandas Dataframe with two fields: \n",
        "\n",
        "1. A unique identifier, in our case the employee number from the original dataset, which is critical to enabling identification and access to the original record that needs changing. \n",
        "\n",
        "2. A list of variables contributing to each records anomaly status, ranked from most important to least. \n",
        "\n",
        "This dataframe can now be saved as a csv to be shared with those that will be responsible for checking the employee records and updating the records as needed. "
      ],
      "metadata": {
        "id": "dB2SrfczD6Fk"
      }
    },
    {
      "cell_type": "markdown",
      "source": [
        "### **Conclusion** <a name=\"conclusion\"></a>"
      ],
      "metadata": {
        "id": "6-LP8g8ND904"
      }
    },
    {
      "cell_type": "markdown",
      "source": [
        "Unsupervised Machine Learning algorithms such as Isolation Forests can be an excellent way of automating and scaling the review of data to monitor for quality concerns. \n",
        "\n",
        "The major advantage of this approach is that the Isolation Forest can identify a record as anomalous, despite no one variable in the record being out of acceptable limits. Instead, the algorithm assesses the combination of multiple variables to determine if the combination makes it seem anomalous. This is like having human intelligence review each record quickly, at scale, and without destroying anyone’s job satisfaction! \n",
        "\n",
        "We propose that this approach has the potential to significantly reduce time spent on direct data quality evaluations, which has considerable direct benefits (i.e., better quality data, more representative analyses and interpretation, etc.) as well as indirect benefits (i.e., time can be spent on other value-add initiatives). This is particularly true for smaller teams."
      ],
      "metadata": {
        "id": "Hzq8NGWiD-fi"
      }
    }
  ]
}